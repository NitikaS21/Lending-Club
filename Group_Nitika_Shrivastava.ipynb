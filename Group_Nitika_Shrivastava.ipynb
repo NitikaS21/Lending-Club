{
  "cells": [
    {
      "cell_type": "markdown",
      "source": [
        "#Dataset Processing"
      ],
      "metadata": {
        "id": "0WWzNLfx6vvw"
      }
    },
    {
      "cell_type": "code",
      "execution_count": 12,
      "metadata": {
        "id": "u18Oc76Xfld3"
      },
      "outputs": [],
      "source": [
        "#Importing essential libraries\n",
        "import pandas as pd\n",
        "import numpy as np\n",
        "import matplotlib.pyplot as plt\n",
        "import seaborn as sns\n",
        "import warnings\n",
        "warnings.filterwarnings('ignore')"
      ]
    },
    {
      "cell_type": "code",
      "execution_count": 16,
      "metadata": {
        "id": "VRGY4gMbfld6"
      },
      "outputs": [],
      "source": [
        "#Dataset read\n",
        "pd.set_option('display.float_format', lambda x: '%.3f' % x)\n",
        "loan = pd.read_csv('loan.csv', encoding= 'unicode_escape')\n"
      ]
    },
    {
      "cell_type": "code",
      "execution_count": 17,
      "metadata": {
        "id": "xOn7-68afld7",
        "outputId": "2b8ea4e4-0385-4195-e5b3-eeac444a94b7",
        "colab": {
          "base_uri": "https://localhost:8080/",
          "height": 661
        }
      },
      "outputs": [
        {
          "output_type": "execute_result",
          "data": {
            "text/plain": [
              "           id  member_id  loan_amnt  funded_amnt  funded_amnt_inv        term  \\\n",
              "4     1075358    1311748       3000         3000         3000.000   60 months   \n",
              "32    1065420    1299514      10000        10000         9975.000   60 months   \n",
              "39    1069346    1304237      12500        12500        12475.000   60 months   \n",
              "86    1063958    1297940      14000        14000        13975.000   60 months   \n",
              "95    1068575    1303001      15300        15300        15275.000   60 months   \n",
              "...       ...        ...        ...          ...              ...         ...   \n",
              "6810   891918    1108780      16000        16000        15975.000   60 months   \n",
              "6822   891745    1108595      15600        15600        15350.000   60 months   \n",
              "6839   888886    1105324       8000         8000         8000.000   60 months   \n",
              "6848   891393    1108264      15000        15000        14975.000   60 months   \n",
              "6850   890158    1106736       6000         6000         6000.000   60 months   \n",
              "\n",
              "     int_rate  installment grade sub_grade  ... num_tl_90g_dpd_24m  \\\n",
              "4      12.69%       67.790     B        B5  ...                NaN   \n",
              "32     15.96%      242.970     C        C5  ...                NaN   \n",
              "39     12.69%      282.440     B        B5  ...                NaN   \n",
              "86     17.27%      349.980     D        D3  ...                NaN   \n",
              "95     22.06%      423.100     F        F4  ...                NaN   \n",
              "...       ...          ...   ...       ...  ...                ...   \n",
              "6810   13.49%      368.080     C        C1  ...                NaN   \n",
              "6822   19.91%      412.530     E        E4  ...                NaN   \n",
              "6839   22.74%      224.340     G        G1  ...                NaN   \n",
              "6848   17.58%      377.490     D        D4  ...                NaN   \n",
              "6850    9.91%      127.220     B        B1  ...                NaN   \n",
              "\n",
              "     num_tl_op_past_12m pct_tl_nvr_dlq  percent_bc_gt_75 pub_rec_bankruptcies  \\\n",
              "4                   NaN            NaN               NaN                0.000   \n",
              "32                  NaN            NaN               NaN                0.000   \n",
              "39                  NaN            NaN               NaN                0.000   \n",
              "86                  NaN            NaN               NaN                0.000   \n",
              "95                  NaN            NaN               NaN                0.000   \n",
              "...                 ...            ...               ...                  ...   \n",
              "6810                NaN            NaN               NaN                0.000   \n",
              "6822                NaN            NaN               NaN                0.000   \n",
              "6839                NaN            NaN               NaN                0.000   \n",
              "6848                NaN            NaN               NaN                0.000   \n",
              "6850                NaN            NaN               NaN                0.000   \n",
              "\n",
              "     tax_liens tot_hi_cred_lim total_bal_ex_mort total_bc_limit  \\\n",
              "4        0.000             NaN               NaN            NaN   \n",
              "32       0.000             NaN               NaN            NaN   \n",
              "39       0.000             NaN               NaN            NaN   \n",
              "86       0.000             NaN               NaN            NaN   \n",
              "95       0.000             NaN               NaN            NaN   \n",
              "...        ...             ...               ...            ...   \n",
              "6810     0.000             NaN               NaN            NaN   \n",
              "6822     0.000             NaN               NaN            NaN   \n",
              "6839     0.000             NaN               NaN            NaN   \n",
              "6848     0.000             NaN               NaN            NaN   \n",
              "6850     0.000             NaN               NaN            NaN   \n",
              "\n",
              "     total_il_high_credit_limit  \n",
              "4                           NaN  \n",
              "32                          NaN  \n",
              "39                          NaN  \n",
              "86                          NaN  \n",
              "95                          NaN  \n",
              "...                         ...  \n",
              "6810                        NaN  \n",
              "6822                        NaN  \n",
              "6839                        NaN  \n",
              "6848                        NaN  \n",
              "6850                        NaN  \n",
              "\n",
              "[564 rows x 111 columns]"
            ],
            "text/html": [
              "\n",
              "  <div id=\"df-2f5c28fb-1af1-48fd-bdae-b3ec8b7c2e22\">\n",
              "    <div class=\"colab-df-container\">\n",
              "      <div>\n",
              "<style scoped>\n",
              "    .dataframe tbody tr th:only-of-type {\n",
              "        vertical-align: middle;\n",
              "    }\n",
              "\n",
              "    .dataframe tbody tr th {\n",
              "        vertical-align: top;\n",
              "    }\n",
              "\n",
              "    .dataframe thead th {\n",
              "        text-align: right;\n",
              "    }\n",
              "</style>\n",
              "<table border=\"1\" class=\"dataframe\">\n",
              "  <thead>\n",
              "    <tr style=\"text-align: right;\">\n",
              "      <th></th>\n",
              "      <th>id</th>\n",
              "      <th>member_id</th>\n",
              "      <th>loan_amnt</th>\n",
              "      <th>funded_amnt</th>\n",
              "      <th>funded_amnt_inv</th>\n",
              "      <th>term</th>\n",
              "      <th>int_rate</th>\n",
              "      <th>installment</th>\n",
              "      <th>grade</th>\n",
              "      <th>sub_grade</th>\n",
              "      <th>...</th>\n",
              "      <th>num_tl_90g_dpd_24m</th>\n",
              "      <th>num_tl_op_past_12m</th>\n",
              "      <th>pct_tl_nvr_dlq</th>\n",
              "      <th>percent_bc_gt_75</th>\n",
              "      <th>pub_rec_bankruptcies</th>\n",
              "      <th>tax_liens</th>\n",
              "      <th>tot_hi_cred_lim</th>\n",
              "      <th>total_bal_ex_mort</th>\n",
              "      <th>total_bc_limit</th>\n",
              "      <th>total_il_high_credit_limit</th>\n",
              "    </tr>\n",
              "  </thead>\n",
              "  <tbody>\n",
              "    <tr>\n",
              "      <th>4</th>\n",
              "      <td>1075358</td>\n",
              "      <td>1311748</td>\n",
              "      <td>3000</td>\n",
              "      <td>3000</td>\n",
              "      <td>3000.000</td>\n",
              "      <td>60 months</td>\n",
              "      <td>12.69%</td>\n",
              "      <td>67.790</td>\n",
              "      <td>B</td>\n",
              "      <td>B5</td>\n",
              "      <td>...</td>\n",
              "      <td>NaN</td>\n",
              "      <td>NaN</td>\n",
              "      <td>NaN</td>\n",
              "      <td>NaN</td>\n",
              "      <td>0.000</td>\n",
              "      <td>0.000</td>\n",
              "      <td>NaN</td>\n",
              "      <td>NaN</td>\n",
              "      <td>NaN</td>\n",
              "      <td>NaN</td>\n",
              "    </tr>\n",
              "    <tr>\n",
              "      <th>32</th>\n",
              "      <td>1065420</td>\n",
              "      <td>1299514</td>\n",
              "      <td>10000</td>\n",
              "      <td>10000</td>\n",
              "      <td>9975.000</td>\n",
              "      <td>60 months</td>\n",
              "      <td>15.96%</td>\n",
              "      <td>242.970</td>\n",
              "      <td>C</td>\n",
              "      <td>C5</td>\n",
              "      <td>...</td>\n",
              "      <td>NaN</td>\n",
              "      <td>NaN</td>\n",
              "      <td>NaN</td>\n",
              "      <td>NaN</td>\n",
              "      <td>0.000</td>\n",
              "      <td>0.000</td>\n",
              "      <td>NaN</td>\n",
              "      <td>NaN</td>\n",
              "      <td>NaN</td>\n",
              "      <td>NaN</td>\n",
              "    </tr>\n",
              "    <tr>\n",
              "      <th>39</th>\n",
              "      <td>1069346</td>\n",
              "      <td>1304237</td>\n",
              "      <td>12500</td>\n",
              "      <td>12500</td>\n",
              "      <td>12475.000</td>\n",
              "      <td>60 months</td>\n",
              "      <td>12.69%</td>\n",
              "      <td>282.440</td>\n",
              "      <td>B</td>\n",
              "      <td>B5</td>\n",
              "      <td>...</td>\n",
              "      <td>NaN</td>\n",
              "      <td>NaN</td>\n",
              "      <td>NaN</td>\n",
              "      <td>NaN</td>\n",
              "      <td>0.000</td>\n",
              "      <td>0.000</td>\n",
              "      <td>NaN</td>\n",
              "      <td>NaN</td>\n",
              "      <td>NaN</td>\n",
              "      <td>NaN</td>\n",
              "    </tr>\n",
              "    <tr>\n",
              "      <th>86</th>\n",
              "      <td>1063958</td>\n",
              "      <td>1297940</td>\n",
              "      <td>14000</td>\n",
              "      <td>14000</td>\n",
              "      <td>13975.000</td>\n",
              "      <td>60 months</td>\n",
              "      <td>17.27%</td>\n",
              "      <td>349.980</td>\n",
              "      <td>D</td>\n",
              "      <td>D3</td>\n",
              "      <td>...</td>\n",
              "      <td>NaN</td>\n",
              "      <td>NaN</td>\n",
              "      <td>NaN</td>\n",
              "      <td>NaN</td>\n",
              "      <td>0.000</td>\n",
              "      <td>0.000</td>\n",
              "      <td>NaN</td>\n",
              "      <td>NaN</td>\n",
              "      <td>NaN</td>\n",
              "      <td>NaN</td>\n",
              "    </tr>\n",
              "    <tr>\n",
              "      <th>95</th>\n",
              "      <td>1068575</td>\n",
              "      <td>1303001</td>\n",
              "      <td>15300</td>\n",
              "      <td>15300</td>\n",
              "      <td>15275.000</td>\n",
              "      <td>60 months</td>\n",
              "      <td>22.06%</td>\n",
              "      <td>423.100</td>\n",
              "      <td>F</td>\n",
              "      <td>F4</td>\n",
              "      <td>...</td>\n",
              "      <td>NaN</td>\n",
              "      <td>NaN</td>\n",
              "      <td>NaN</td>\n",
              "      <td>NaN</td>\n",
              "      <td>0.000</td>\n",
              "      <td>0.000</td>\n",
              "      <td>NaN</td>\n",
              "      <td>NaN</td>\n",
              "      <td>NaN</td>\n",
              "      <td>NaN</td>\n",
              "    </tr>\n",
              "    <tr>\n",
              "      <th>...</th>\n",
              "      <td>...</td>\n",
              "      <td>...</td>\n",
              "      <td>...</td>\n",
              "      <td>...</td>\n",
              "      <td>...</td>\n",
              "      <td>...</td>\n",
              "      <td>...</td>\n",
              "      <td>...</td>\n",
              "      <td>...</td>\n",
              "      <td>...</td>\n",
              "      <td>...</td>\n",
              "      <td>...</td>\n",
              "      <td>...</td>\n",
              "      <td>...</td>\n",
              "      <td>...</td>\n",
              "      <td>...</td>\n",
              "      <td>...</td>\n",
              "      <td>...</td>\n",
              "      <td>...</td>\n",
              "      <td>...</td>\n",
              "      <td>...</td>\n",
              "    </tr>\n",
              "    <tr>\n",
              "      <th>6810</th>\n",
              "      <td>891918</td>\n",
              "      <td>1108780</td>\n",
              "      <td>16000</td>\n",
              "      <td>16000</td>\n",
              "      <td>15975.000</td>\n",
              "      <td>60 months</td>\n",
              "      <td>13.49%</td>\n",
              "      <td>368.080</td>\n",
              "      <td>C</td>\n",
              "      <td>C1</td>\n",
              "      <td>...</td>\n",
              "      <td>NaN</td>\n",
              "      <td>NaN</td>\n",
              "      <td>NaN</td>\n",
              "      <td>NaN</td>\n",
              "      <td>0.000</td>\n",
              "      <td>0.000</td>\n",
              "      <td>NaN</td>\n",
              "      <td>NaN</td>\n",
              "      <td>NaN</td>\n",
              "      <td>NaN</td>\n",
              "    </tr>\n",
              "    <tr>\n",
              "      <th>6822</th>\n",
              "      <td>891745</td>\n",
              "      <td>1108595</td>\n",
              "      <td>15600</td>\n",
              "      <td>15600</td>\n",
              "      <td>15350.000</td>\n",
              "      <td>60 months</td>\n",
              "      <td>19.91%</td>\n",
              "      <td>412.530</td>\n",
              "      <td>E</td>\n",
              "      <td>E4</td>\n",
              "      <td>...</td>\n",
              "      <td>NaN</td>\n",
              "      <td>NaN</td>\n",
              "      <td>NaN</td>\n",
              "      <td>NaN</td>\n",
              "      <td>0.000</td>\n",
              "      <td>0.000</td>\n",
              "      <td>NaN</td>\n",
              "      <td>NaN</td>\n",
              "      <td>NaN</td>\n",
              "      <td>NaN</td>\n",
              "    </tr>\n",
              "    <tr>\n",
              "      <th>6839</th>\n",
              "      <td>888886</td>\n",
              "      <td>1105324</td>\n",
              "      <td>8000</td>\n",
              "      <td>8000</td>\n",
              "      <td>8000.000</td>\n",
              "      <td>60 months</td>\n",
              "      <td>22.74%</td>\n",
              "      <td>224.340</td>\n",
              "      <td>G</td>\n",
              "      <td>G1</td>\n",
              "      <td>...</td>\n",
              "      <td>NaN</td>\n",
              "      <td>NaN</td>\n",
              "      <td>NaN</td>\n",
              "      <td>NaN</td>\n",
              "      <td>0.000</td>\n",
              "      <td>0.000</td>\n",
              "      <td>NaN</td>\n",
              "      <td>NaN</td>\n",
              "      <td>NaN</td>\n",
              "      <td>NaN</td>\n",
              "    </tr>\n",
              "    <tr>\n",
              "      <th>6848</th>\n",
              "      <td>891393</td>\n",
              "      <td>1108264</td>\n",
              "      <td>15000</td>\n",
              "      <td>15000</td>\n",
              "      <td>14975.000</td>\n",
              "      <td>60 months</td>\n",
              "      <td>17.58%</td>\n",
              "      <td>377.490</td>\n",
              "      <td>D</td>\n",
              "      <td>D4</td>\n",
              "      <td>...</td>\n",
              "      <td>NaN</td>\n",
              "      <td>NaN</td>\n",
              "      <td>NaN</td>\n",
              "      <td>NaN</td>\n",
              "      <td>0.000</td>\n",
              "      <td>0.000</td>\n",
              "      <td>NaN</td>\n",
              "      <td>NaN</td>\n",
              "      <td>NaN</td>\n",
              "      <td>NaN</td>\n",
              "    </tr>\n",
              "    <tr>\n",
              "      <th>6850</th>\n",
              "      <td>890158</td>\n",
              "      <td>1106736</td>\n",
              "      <td>6000</td>\n",
              "      <td>6000</td>\n",
              "      <td>6000.000</td>\n",
              "      <td>60 months</td>\n",
              "      <td>9.91%</td>\n",
              "      <td>127.220</td>\n",
              "      <td>B</td>\n",
              "      <td>B1</td>\n",
              "      <td>...</td>\n",
              "      <td>NaN</td>\n",
              "      <td>NaN</td>\n",
              "      <td>NaN</td>\n",
              "      <td>NaN</td>\n",
              "      <td>0.000</td>\n",
              "      <td>0.000</td>\n",
              "      <td>NaN</td>\n",
              "      <td>NaN</td>\n",
              "      <td>NaN</td>\n",
              "      <td>NaN</td>\n",
              "    </tr>\n",
              "  </tbody>\n",
              "</table>\n",
              "<p>564 rows × 111 columns</p>\n",
              "</div>\n",
              "      <button class=\"colab-df-convert\" onclick=\"convertToInteractive('df-2f5c28fb-1af1-48fd-bdae-b3ec8b7c2e22')\"\n",
              "              title=\"Convert this dataframe to an interactive table.\"\n",
              "              style=\"display:none;\">\n",
              "        \n",
              "  <svg xmlns=\"http://www.w3.org/2000/svg\" height=\"24px\"viewBox=\"0 0 24 24\"\n",
              "       width=\"24px\">\n",
              "    <path d=\"M0 0h24v24H0V0z\" fill=\"none\"/>\n",
              "    <path d=\"M18.56 5.44l.94 2.06.94-2.06 2.06-.94-2.06-.94-.94-2.06-.94 2.06-2.06.94zm-11 1L8.5 8.5l.94-2.06 2.06-.94-2.06-.94L8.5 2.5l-.94 2.06-2.06.94zm10 10l.94 2.06.94-2.06 2.06-.94-2.06-.94-.94-2.06-.94 2.06-2.06.94z\"/><path d=\"M17.41 7.96l-1.37-1.37c-.4-.4-.92-.59-1.43-.59-.52 0-1.04.2-1.43.59L10.3 9.45l-7.72 7.72c-.78.78-.78 2.05 0 2.83L4 21.41c.39.39.9.59 1.41.59.51 0 1.02-.2 1.41-.59l7.78-7.78 2.81-2.81c.8-.78.8-2.07 0-2.86zM5.41 20L4 18.59l7.72-7.72 1.47 1.35L5.41 20z\"/>\n",
              "  </svg>\n",
              "      </button>\n",
              "      \n",
              "  <style>\n",
              "    .colab-df-container {\n",
              "      display:flex;\n",
              "      flex-wrap:wrap;\n",
              "      gap: 12px;\n",
              "    }\n",
              "\n",
              "    .colab-df-convert {\n",
              "      background-color: #E8F0FE;\n",
              "      border: none;\n",
              "      border-radius: 50%;\n",
              "      cursor: pointer;\n",
              "      display: none;\n",
              "      fill: #1967D2;\n",
              "      height: 32px;\n",
              "      padding: 0 0 0 0;\n",
              "      width: 32px;\n",
              "    }\n",
              "\n",
              "    .colab-df-convert:hover {\n",
              "      background-color: #E2EBFA;\n",
              "      box-shadow: 0px 1px 2px rgba(60, 64, 67, 0.3), 0px 1px 3px 1px rgba(60, 64, 67, 0.15);\n",
              "      fill: #174EA6;\n",
              "    }\n",
              "\n",
              "    [theme=dark] .colab-df-convert {\n",
              "      background-color: #3B4455;\n",
              "      fill: #D2E3FC;\n",
              "    }\n",
              "\n",
              "    [theme=dark] .colab-df-convert:hover {\n",
              "      background-color: #434B5C;\n",
              "      box-shadow: 0px 1px 3px 1px rgba(0, 0, 0, 0.15);\n",
              "      filter: drop-shadow(0px 1px 2px rgba(0, 0, 0, 0.3));\n",
              "      fill: #FFFFFF;\n",
              "    }\n",
              "  </style>\n",
              "\n",
              "      <script>\n",
              "        const buttonEl =\n",
              "          document.querySelector('#df-2f5c28fb-1af1-48fd-bdae-b3ec8b7c2e22 button.colab-df-convert');\n",
              "        buttonEl.style.display =\n",
              "          google.colab.kernel.accessAllowed ? 'block' : 'none';\n",
              "\n",
              "        async function convertToInteractive(key) {\n",
              "          const element = document.querySelector('#df-2f5c28fb-1af1-48fd-bdae-b3ec8b7c2e22');\n",
              "          const dataTable =\n",
              "            await google.colab.kernel.invokeFunction('convertToInteractive',\n",
              "                                                     [key], {});\n",
              "          if (!dataTable) return;\n",
              "\n",
              "          const docLinkHtml = 'Like what you see? Visit the ' +\n",
              "            '<a target=\"_blank\" href=https://colab.research.google.com/notebooks/data_table.ipynb>data table notebook</a>'\n",
              "            + ' to learn more about interactive tables.';\n",
              "          element.innerHTML = '';\n",
              "          dataTable['output_type'] = 'display_data';\n",
              "          await google.colab.output.renderOutput(dataTable, element);\n",
              "          const docLink = document.createElement('div');\n",
              "          docLink.innerHTML = docLinkHtml;\n",
              "          element.appendChild(docLink);\n",
              "        }\n",
              "      </script>\n",
              "    </div>\n",
              "  </div>\n",
              "  "
            ]
          },
          "metadata": {},
          "execution_count": 17
        }
      ],
      "source": [
        "#Dataset description in table 1.1\n",
        "loan.isnull().sum()\n",
        "loan.shape\n",
        "loan[(loan.loan_status == 'Current')]"
      ]
    },
    {
      "cell_type": "code",
      "execution_count": 18,
      "metadata": {
        "id": "Vr8jN9kQfld8",
        "outputId": "4a5c251b-8485-4829-913b-31aeffd1543a",
        "colab": {
          "base_uri": "https://localhost:8080/"
        }
      },
      "outputs": [
        {
          "output_type": "execute_result",
          "data": {
            "text/plain": [
              "(6290, 111)"
            ]
          },
          "metadata": {},
          "execution_count": 18
        }
      ],
      "source": [
        "#Counting values in each sort of loan status\n",
        "loan.loan_status.value_counts()\n",
        "\n",
        "#Filtering out record with loan status as \"Current\"\n",
        "filter_loan = loan[~(loan.loan_status == 'Current')]\n",
        "filter_loan.loan_status.unique()\n",
        "filter_loan.shape"
      ]
    },
    {
      "cell_type": "code",
      "execution_count": 19,
      "metadata": {
        "id": "XWxlithBfld8",
        "outputId": "2b63d531-522a-4d77-dd84-7f4cf1240a0e",
        "colab": {
          "base_uri": "https://localhost:8080/",
          "height": 386
        }
      },
      "outputs": [
        {
          "output_type": "execute_result",
          "data": {
            "text/plain": [
              "        id  member_id  loan_amnt  funded_amnt  funded_amnt_inv        term  \\\n",
              "0  1077501    1296599       5000         5000         4975.000   36 months   \n",
              "1  1077430    1314167       2500         2500         2500.000   60 months   \n",
              "2  1077175    1313524       2400         2400         2400.000   36 months   \n",
              "3  1076863    1277178      10000        10000        10000.000   36 months   \n",
              "5  1075269    1311441       5000         5000         5000.000   36 months   \n",
              "\n",
              "  int_rate  installment grade sub_grade  ... num_tl_90g_dpd_24m  \\\n",
              "0   10.65%      162.870     B        B2  ...                NaN   \n",
              "1   15.27%       59.830     C        C4  ...                NaN   \n",
              "2   15.96%       84.330     C        C5  ...                NaN   \n",
              "3   13.49%      339.310     C        C1  ...                NaN   \n",
              "5    7.90%      156.460     A        A4  ...                NaN   \n",
              "\n",
              "  num_tl_op_past_12m pct_tl_nvr_dlq  percent_bc_gt_75 pub_rec_bankruptcies  \\\n",
              "0                NaN            NaN               NaN                0.000   \n",
              "1                NaN            NaN               NaN                0.000   \n",
              "2                NaN            NaN               NaN                0.000   \n",
              "3                NaN            NaN               NaN                0.000   \n",
              "5                NaN            NaN               NaN                0.000   \n",
              "\n",
              "  tax_liens tot_hi_cred_lim total_bal_ex_mort total_bc_limit  \\\n",
              "0     0.000             NaN               NaN            NaN   \n",
              "1     0.000             NaN               NaN            NaN   \n",
              "2     0.000             NaN               NaN            NaN   \n",
              "3     0.000             NaN               NaN            NaN   \n",
              "5     0.000             NaN               NaN            NaN   \n",
              "\n",
              "  total_il_high_credit_limit  \n",
              "0                        NaN  \n",
              "1                        NaN  \n",
              "2                        NaN  \n",
              "3                        NaN  \n",
              "5                        NaN  \n",
              "\n",
              "[5 rows x 111 columns]"
            ],
            "text/html": [
              "\n",
              "  <div id=\"df-e40699b4-a69a-4ebc-aed8-a2434d918070\">\n",
              "    <div class=\"colab-df-container\">\n",
              "      <div>\n",
              "<style scoped>\n",
              "    .dataframe tbody tr th:only-of-type {\n",
              "        vertical-align: middle;\n",
              "    }\n",
              "\n",
              "    .dataframe tbody tr th {\n",
              "        vertical-align: top;\n",
              "    }\n",
              "\n",
              "    .dataframe thead th {\n",
              "        text-align: right;\n",
              "    }\n",
              "</style>\n",
              "<table border=\"1\" class=\"dataframe\">\n",
              "  <thead>\n",
              "    <tr style=\"text-align: right;\">\n",
              "      <th></th>\n",
              "      <th>id</th>\n",
              "      <th>member_id</th>\n",
              "      <th>loan_amnt</th>\n",
              "      <th>funded_amnt</th>\n",
              "      <th>funded_amnt_inv</th>\n",
              "      <th>term</th>\n",
              "      <th>int_rate</th>\n",
              "      <th>installment</th>\n",
              "      <th>grade</th>\n",
              "      <th>sub_grade</th>\n",
              "      <th>...</th>\n",
              "      <th>num_tl_90g_dpd_24m</th>\n",
              "      <th>num_tl_op_past_12m</th>\n",
              "      <th>pct_tl_nvr_dlq</th>\n",
              "      <th>percent_bc_gt_75</th>\n",
              "      <th>pub_rec_bankruptcies</th>\n",
              "      <th>tax_liens</th>\n",
              "      <th>tot_hi_cred_lim</th>\n",
              "      <th>total_bal_ex_mort</th>\n",
              "      <th>total_bc_limit</th>\n",
              "      <th>total_il_high_credit_limit</th>\n",
              "    </tr>\n",
              "  </thead>\n",
              "  <tbody>\n",
              "    <tr>\n",
              "      <th>0</th>\n",
              "      <td>1077501</td>\n",
              "      <td>1296599</td>\n",
              "      <td>5000</td>\n",
              "      <td>5000</td>\n",
              "      <td>4975.000</td>\n",
              "      <td>36 months</td>\n",
              "      <td>10.65%</td>\n",
              "      <td>162.870</td>\n",
              "      <td>B</td>\n",
              "      <td>B2</td>\n",
              "      <td>...</td>\n",
              "      <td>NaN</td>\n",
              "      <td>NaN</td>\n",
              "      <td>NaN</td>\n",
              "      <td>NaN</td>\n",
              "      <td>0.000</td>\n",
              "      <td>0.000</td>\n",
              "      <td>NaN</td>\n",
              "      <td>NaN</td>\n",
              "      <td>NaN</td>\n",
              "      <td>NaN</td>\n",
              "    </tr>\n",
              "    <tr>\n",
              "      <th>1</th>\n",
              "      <td>1077430</td>\n",
              "      <td>1314167</td>\n",
              "      <td>2500</td>\n",
              "      <td>2500</td>\n",
              "      <td>2500.000</td>\n",
              "      <td>60 months</td>\n",
              "      <td>15.27%</td>\n",
              "      <td>59.830</td>\n",
              "      <td>C</td>\n",
              "      <td>C4</td>\n",
              "      <td>...</td>\n",
              "      <td>NaN</td>\n",
              "      <td>NaN</td>\n",
              "      <td>NaN</td>\n",
              "      <td>NaN</td>\n",
              "      <td>0.000</td>\n",
              "      <td>0.000</td>\n",
              "      <td>NaN</td>\n",
              "      <td>NaN</td>\n",
              "      <td>NaN</td>\n",
              "      <td>NaN</td>\n",
              "    </tr>\n",
              "    <tr>\n",
              "      <th>2</th>\n",
              "      <td>1077175</td>\n",
              "      <td>1313524</td>\n",
              "      <td>2400</td>\n",
              "      <td>2400</td>\n",
              "      <td>2400.000</td>\n",
              "      <td>36 months</td>\n",
              "      <td>15.96%</td>\n",
              "      <td>84.330</td>\n",
              "      <td>C</td>\n",
              "      <td>C5</td>\n",
              "      <td>...</td>\n",
              "      <td>NaN</td>\n",
              "      <td>NaN</td>\n",
              "      <td>NaN</td>\n",
              "      <td>NaN</td>\n",
              "      <td>0.000</td>\n",
              "      <td>0.000</td>\n",
              "      <td>NaN</td>\n",
              "      <td>NaN</td>\n",
              "      <td>NaN</td>\n",
              "      <td>NaN</td>\n",
              "    </tr>\n",
              "    <tr>\n",
              "      <th>3</th>\n",
              "      <td>1076863</td>\n",
              "      <td>1277178</td>\n",
              "      <td>10000</td>\n",
              "      <td>10000</td>\n",
              "      <td>10000.000</td>\n",
              "      <td>36 months</td>\n",
              "      <td>13.49%</td>\n",
              "      <td>339.310</td>\n",
              "      <td>C</td>\n",
              "      <td>C1</td>\n",
              "      <td>...</td>\n",
              "      <td>NaN</td>\n",
              "      <td>NaN</td>\n",
              "      <td>NaN</td>\n",
              "      <td>NaN</td>\n",
              "      <td>0.000</td>\n",
              "      <td>0.000</td>\n",
              "      <td>NaN</td>\n",
              "      <td>NaN</td>\n",
              "      <td>NaN</td>\n",
              "      <td>NaN</td>\n",
              "    </tr>\n",
              "    <tr>\n",
              "      <th>5</th>\n",
              "      <td>1075269</td>\n",
              "      <td>1311441</td>\n",
              "      <td>5000</td>\n",
              "      <td>5000</td>\n",
              "      <td>5000.000</td>\n",
              "      <td>36 months</td>\n",
              "      <td>7.90%</td>\n",
              "      <td>156.460</td>\n",
              "      <td>A</td>\n",
              "      <td>A4</td>\n",
              "      <td>...</td>\n",
              "      <td>NaN</td>\n",
              "      <td>NaN</td>\n",
              "      <td>NaN</td>\n",
              "      <td>NaN</td>\n",
              "      <td>0.000</td>\n",
              "      <td>0.000</td>\n",
              "      <td>NaN</td>\n",
              "      <td>NaN</td>\n",
              "      <td>NaN</td>\n",
              "      <td>NaN</td>\n",
              "    </tr>\n",
              "  </tbody>\n",
              "</table>\n",
              "<p>5 rows × 111 columns</p>\n",
              "</div>\n",
              "      <button class=\"colab-df-convert\" onclick=\"convertToInteractive('df-e40699b4-a69a-4ebc-aed8-a2434d918070')\"\n",
              "              title=\"Convert this dataframe to an interactive table.\"\n",
              "              style=\"display:none;\">\n",
              "        \n",
              "  <svg xmlns=\"http://www.w3.org/2000/svg\" height=\"24px\"viewBox=\"0 0 24 24\"\n",
              "       width=\"24px\">\n",
              "    <path d=\"M0 0h24v24H0V0z\" fill=\"none\"/>\n",
              "    <path d=\"M18.56 5.44l.94 2.06.94-2.06 2.06-.94-2.06-.94-.94-2.06-.94 2.06-2.06.94zm-11 1L8.5 8.5l.94-2.06 2.06-.94-2.06-.94L8.5 2.5l-.94 2.06-2.06.94zm10 10l.94 2.06.94-2.06 2.06-.94-2.06-.94-.94-2.06-.94 2.06-2.06.94z\"/><path d=\"M17.41 7.96l-1.37-1.37c-.4-.4-.92-.59-1.43-.59-.52 0-1.04.2-1.43.59L10.3 9.45l-7.72 7.72c-.78.78-.78 2.05 0 2.83L4 21.41c.39.39.9.59 1.41.59.51 0 1.02-.2 1.41-.59l7.78-7.78 2.81-2.81c.8-.78.8-2.07 0-2.86zM5.41 20L4 18.59l7.72-7.72 1.47 1.35L5.41 20z\"/>\n",
              "  </svg>\n",
              "      </button>\n",
              "      \n",
              "  <style>\n",
              "    .colab-df-container {\n",
              "      display:flex;\n",
              "      flex-wrap:wrap;\n",
              "      gap: 12px;\n",
              "    }\n",
              "\n",
              "    .colab-df-convert {\n",
              "      background-color: #E8F0FE;\n",
              "      border: none;\n",
              "      border-radius: 50%;\n",
              "      cursor: pointer;\n",
              "      display: none;\n",
              "      fill: #1967D2;\n",
              "      height: 32px;\n",
              "      padding: 0 0 0 0;\n",
              "      width: 32px;\n",
              "    }\n",
              "\n",
              "    .colab-df-convert:hover {\n",
              "      background-color: #E2EBFA;\n",
              "      box-shadow: 0px 1px 2px rgba(60, 64, 67, 0.3), 0px 1px 3px 1px rgba(60, 64, 67, 0.15);\n",
              "      fill: #174EA6;\n",
              "    }\n",
              "\n",
              "    [theme=dark] .colab-df-convert {\n",
              "      background-color: #3B4455;\n",
              "      fill: #D2E3FC;\n",
              "    }\n",
              "\n",
              "    [theme=dark] .colab-df-convert:hover {\n",
              "      background-color: #434B5C;\n",
              "      box-shadow: 0px 1px 3px 1px rgba(0, 0, 0, 0.15);\n",
              "      filter: drop-shadow(0px 1px 2px rgba(0, 0, 0, 0.3));\n",
              "      fill: #FFFFFF;\n",
              "    }\n",
              "  </style>\n",
              "\n",
              "      <script>\n",
              "        const buttonEl =\n",
              "          document.querySelector('#df-e40699b4-a69a-4ebc-aed8-a2434d918070 button.colab-df-convert');\n",
              "        buttonEl.style.display =\n",
              "          google.colab.kernel.accessAllowed ? 'block' : 'none';\n",
              "\n",
              "        async function convertToInteractive(key) {\n",
              "          const element = document.querySelector('#df-e40699b4-a69a-4ebc-aed8-a2434d918070');\n",
              "          const dataTable =\n",
              "            await google.colab.kernel.invokeFunction('convertToInteractive',\n",
              "                                                     [key], {});\n",
              "          if (!dataTable) return;\n",
              "\n",
              "          const docLinkHtml = 'Like what you see? Visit the ' +\n",
              "            '<a target=\"_blank\" href=https://colab.research.google.com/notebooks/data_table.ipynb>data table notebook</a>'\n",
              "            + ' to learn more about interactive tables.';\n",
              "          element.innerHTML = '';\n",
              "          dataTable['output_type'] = 'display_data';\n",
              "          await google.colab.output.renderOutput(dataTable, element);\n",
              "          const docLink = document.createElement('div');\n",
              "          docLink.innerHTML = docLinkHtml;\n",
              "          element.appendChild(docLink);\n",
              "        }\n",
              "      </script>\n",
              "    </div>\n",
              "  </div>\n",
              "  "
            ]
          },
          "metadata": {},
          "execution_count": 19
        }
      ],
      "source": [
        "filter_loan.head()"
      ]
    },
    {
      "cell_type": "code",
      "execution_count": 20,
      "metadata": {
        "id": "d-uj3WtBfld9",
        "outputId": "d1d0aaeb-06af-4d2e-ae39-4a2c522c087f",
        "colab": {
          "base_uri": "https://localhost:8080/"
        }
      },
      "outputs": [
        {
          "output_type": "execute_result",
          "data": {
            "text/plain": [
              "(6290, 41)"
            ]
          },
          "metadata": {},
          "execution_count": 20
        }
      ],
      "source": [
        "filter_loan = filter_loan.loc[:, filter_loan.isin([' ','NULL',0,np.nan]).mean() < .6]\n",
        "filter_loan.shape"
      ]
    },
    {
      "cell_type": "code",
      "execution_count": 21,
      "metadata": {
        "id": "XYMCCU_Rfld-",
        "outputId": "d74ff490-72c6-433c-dbaf-46c05810f825",
        "colab": {
          "base_uri": "https://localhost:8080/",
          "height": 386
        }
      },
      "outputs": [
        {
          "output_type": "execute_result",
          "data": {
            "text/plain": [
              "        id  member_id  loan_amnt  funded_amnt  funded_amnt_inv        term  \\\n",
              "0  1077501    1296599       5000         5000         4975.000   36 months   \n",
              "1  1077430    1314167       2500         2500         2500.000   60 months   \n",
              "2  1077175    1313524       2400         2400         2400.000   36 months   \n",
              "3  1076863    1277178      10000        10000        10000.000   36 months   \n",
              "5  1075269    1311441       5000         5000         5000.000   36 months   \n",
              "\n",
              "  int_rate  installment grade sub_grade  ... initial_list_status total_pymnt  \\\n",
              "0   10.65%      162.870     B        B2  ...                   f    5863.155   \n",
              "1   15.27%       59.830     C        C4  ...                   f    1008.710   \n",
              "2   15.96%       84.330     C        C5  ...                   f    3005.667   \n",
              "3   13.49%      339.310     C        C1  ...                   f   12231.890   \n",
              "5    7.90%      156.460     A        A4  ...                   f    5632.210   \n",
              "\n",
              "  total_pymnt_inv  total_rec_prncp total_rec_int last_pymnt_d last_pymnt_amnt  \\\n",
              "0        5833.840         5000.000       863.160       Jan-15         171.620   \n",
              "1        1008.710          456.460       435.170       Apr-13         119.660   \n",
              "2        3005.670         2400.000       605.670       Jun-14         649.910   \n",
              "3       12231.890        10000.000      2214.920       Jan-15         357.480   \n",
              "5        5632.210         5000.000       632.210       Jan-15         161.030   \n",
              "\n",
              "  last_credit_pull_d policy_code application_type  \n",
              "0             May-16       1.000       INDIVIDUAL  \n",
              "1             Sep-13       1.000       INDIVIDUAL  \n",
              "2             May-16       1.000       INDIVIDUAL  \n",
              "3             Apr-16       1.000       INDIVIDUAL  \n",
              "5             Jan-16       1.000       INDIVIDUAL  \n",
              "\n",
              "[5 rows x 41 columns]"
            ],
            "text/html": [
              "\n",
              "  <div id=\"df-e77ab0f7-e895-4960-903f-667922a9649b\">\n",
              "    <div class=\"colab-df-container\">\n",
              "      <div>\n",
              "<style scoped>\n",
              "    .dataframe tbody tr th:only-of-type {\n",
              "        vertical-align: middle;\n",
              "    }\n",
              "\n",
              "    .dataframe tbody tr th {\n",
              "        vertical-align: top;\n",
              "    }\n",
              "\n",
              "    .dataframe thead th {\n",
              "        text-align: right;\n",
              "    }\n",
              "</style>\n",
              "<table border=\"1\" class=\"dataframe\">\n",
              "  <thead>\n",
              "    <tr style=\"text-align: right;\">\n",
              "      <th></th>\n",
              "      <th>id</th>\n",
              "      <th>member_id</th>\n",
              "      <th>loan_amnt</th>\n",
              "      <th>funded_amnt</th>\n",
              "      <th>funded_amnt_inv</th>\n",
              "      <th>term</th>\n",
              "      <th>int_rate</th>\n",
              "      <th>installment</th>\n",
              "      <th>grade</th>\n",
              "      <th>sub_grade</th>\n",
              "      <th>...</th>\n",
              "      <th>initial_list_status</th>\n",
              "      <th>total_pymnt</th>\n",
              "      <th>total_pymnt_inv</th>\n",
              "      <th>total_rec_prncp</th>\n",
              "      <th>total_rec_int</th>\n",
              "      <th>last_pymnt_d</th>\n",
              "      <th>last_pymnt_amnt</th>\n",
              "      <th>last_credit_pull_d</th>\n",
              "      <th>policy_code</th>\n",
              "      <th>application_type</th>\n",
              "    </tr>\n",
              "  </thead>\n",
              "  <tbody>\n",
              "    <tr>\n",
              "      <th>0</th>\n",
              "      <td>1077501</td>\n",
              "      <td>1296599</td>\n",
              "      <td>5000</td>\n",
              "      <td>5000</td>\n",
              "      <td>4975.000</td>\n",
              "      <td>36 months</td>\n",
              "      <td>10.65%</td>\n",
              "      <td>162.870</td>\n",
              "      <td>B</td>\n",
              "      <td>B2</td>\n",
              "      <td>...</td>\n",
              "      <td>f</td>\n",
              "      <td>5863.155</td>\n",
              "      <td>5833.840</td>\n",
              "      <td>5000.000</td>\n",
              "      <td>863.160</td>\n",
              "      <td>Jan-15</td>\n",
              "      <td>171.620</td>\n",
              "      <td>May-16</td>\n",
              "      <td>1.000</td>\n",
              "      <td>INDIVIDUAL</td>\n",
              "    </tr>\n",
              "    <tr>\n",
              "      <th>1</th>\n",
              "      <td>1077430</td>\n",
              "      <td>1314167</td>\n",
              "      <td>2500</td>\n",
              "      <td>2500</td>\n",
              "      <td>2500.000</td>\n",
              "      <td>60 months</td>\n",
              "      <td>15.27%</td>\n",
              "      <td>59.830</td>\n",
              "      <td>C</td>\n",
              "      <td>C4</td>\n",
              "      <td>...</td>\n",
              "      <td>f</td>\n",
              "      <td>1008.710</td>\n",
              "      <td>1008.710</td>\n",
              "      <td>456.460</td>\n",
              "      <td>435.170</td>\n",
              "      <td>Apr-13</td>\n",
              "      <td>119.660</td>\n",
              "      <td>Sep-13</td>\n",
              "      <td>1.000</td>\n",
              "      <td>INDIVIDUAL</td>\n",
              "    </tr>\n",
              "    <tr>\n",
              "      <th>2</th>\n",
              "      <td>1077175</td>\n",
              "      <td>1313524</td>\n",
              "      <td>2400</td>\n",
              "      <td>2400</td>\n",
              "      <td>2400.000</td>\n",
              "      <td>36 months</td>\n",
              "      <td>15.96%</td>\n",
              "      <td>84.330</td>\n",
              "      <td>C</td>\n",
              "      <td>C5</td>\n",
              "      <td>...</td>\n",
              "      <td>f</td>\n",
              "      <td>3005.667</td>\n",
              "      <td>3005.670</td>\n",
              "      <td>2400.000</td>\n",
              "      <td>605.670</td>\n",
              "      <td>Jun-14</td>\n",
              "      <td>649.910</td>\n",
              "      <td>May-16</td>\n",
              "      <td>1.000</td>\n",
              "      <td>INDIVIDUAL</td>\n",
              "    </tr>\n",
              "    <tr>\n",
              "      <th>3</th>\n",
              "      <td>1076863</td>\n",
              "      <td>1277178</td>\n",
              "      <td>10000</td>\n",
              "      <td>10000</td>\n",
              "      <td>10000.000</td>\n",
              "      <td>36 months</td>\n",
              "      <td>13.49%</td>\n",
              "      <td>339.310</td>\n",
              "      <td>C</td>\n",
              "      <td>C1</td>\n",
              "      <td>...</td>\n",
              "      <td>f</td>\n",
              "      <td>12231.890</td>\n",
              "      <td>12231.890</td>\n",
              "      <td>10000.000</td>\n",
              "      <td>2214.920</td>\n",
              "      <td>Jan-15</td>\n",
              "      <td>357.480</td>\n",
              "      <td>Apr-16</td>\n",
              "      <td>1.000</td>\n",
              "      <td>INDIVIDUAL</td>\n",
              "    </tr>\n",
              "    <tr>\n",
              "      <th>5</th>\n",
              "      <td>1075269</td>\n",
              "      <td>1311441</td>\n",
              "      <td>5000</td>\n",
              "      <td>5000</td>\n",
              "      <td>5000.000</td>\n",
              "      <td>36 months</td>\n",
              "      <td>7.90%</td>\n",
              "      <td>156.460</td>\n",
              "      <td>A</td>\n",
              "      <td>A4</td>\n",
              "      <td>...</td>\n",
              "      <td>f</td>\n",
              "      <td>5632.210</td>\n",
              "      <td>5632.210</td>\n",
              "      <td>5000.000</td>\n",
              "      <td>632.210</td>\n",
              "      <td>Jan-15</td>\n",
              "      <td>161.030</td>\n",
              "      <td>Jan-16</td>\n",
              "      <td>1.000</td>\n",
              "      <td>INDIVIDUAL</td>\n",
              "    </tr>\n",
              "  </tbody>\n",
              "</table>\n",
              "<p>5 rows × 41 columns</p>\n",
              "</div>\n",
              "      <button class=\"colab-df-convert\" onclick=\"convertToInteractive('df-e77ab0f7-e895-4960-903f-667922a9649b')\"\n",
              "              title=\"Convert this dataframe to an interactive table.\"\n",
              "              style=\"display:none;\">\n",
              "        \n",
              "  <svg xmlns=\"http://www.w3.org/2000/svg\" height=\"24px\"viewBox=\"0 0 24 24\"\n",
              "       width=\"24px\">\n",
              "    <path d=\"M0 0h24v24H0V0z\" fill=\"none\"/>\n",
              "    <path d=\"M18.56 5.44l.94 2.06.94-2.06 2.06-.94-2.06-.94-.94-2.06-.94 2.06-2.06.94zm-11 1L8.5 8.5l.94-2.06 2.06-.94-2.06-.94L8.5 2.5l-.94 2.06-2.06.94zm10 10l.94 2.06.94-2.06 2.06-.94-2.06-.94-.94-2.06-.94 2.06-2.06.94z\"/><path d=\"M17.41 7.96l-1.37-1.37c-.4-.4-.92-.59-1.43-.59-.52 0-1.04.2-1.43.59L10.3 9.45l-7.72 7.72c-.78.78-.78 2.05 0 2.83L4 21.41c.39.39.9.59 1.41.59.51 0 1.02-.2 1.41-.59l7.78-7.78 2.81-2.81c.8-.78.8-2.07 0-2.86zM5.41 20L4 18.59l7.72-7.72 1.47 1.35L5.41 20z\"/>\n",
              "  </svg>\n",
              "      </button>\n",
              "      \n",
              "  <style>\n",
              "    .colab-df-container {\n",
              "      display:flex;\n",
              "      flex-wrap:wrap;\n",
              "      gap: 12px;\n",
              "    }\n",
              "\n",
              "    .colab-df-convert {\n",
              "      background-color: #E8F0FE;\n",
              "      border: none;\n",
              "      border-radius: 50%;\n",
              "      cursor: pointer;\n",
              "      display: none;\n",
              "      fill: #1967D2;\n",
              "      height: 32px;\n",
              "      padding: 0 0 0 0;\n",
              "      width: 32px;\n",
              "    }\n",
              "\n",
              "    .colab-df-convert:hover {\n",
              "      background-color: #E2EBFA;\n",
              "      box-shadow: 0px 1px 2px rgba(60, 64, 67, 0.3), 0px 1px 3px 1px rgba(60, 64, 67, 0.15);\n",
              "      fill: #174EA6;\n",
              "    }\n",
              "\n",
              "    [theme=dark] .colab-df-convert {\n",
              "      background-color: #3B4455;\n",
              "      fill: #D2E3FC;\n",
              "    }\n",
              "\n",
              "    [theme=dark] .colab-df-convert:hover {\n",
              "      background-color: #434B5C;\n",
              "      box-shadow: 0px 1px 3px 1px rgba(0, 0, 0, 0.15);\n",
              "      filter: drop-shadow(0px 1px 2px rgba(0, 0, 0, 0.3));\n",
              "      fill: #FFFFFF;\n",
              "    }\n",
              "  </style>\n",
              "\n",
              "      <script>\n",
              "        const buttonEl =\n",
              "          document.querySelector('#df-e77ab0f7-e895-4960-903f-667922a9649b button.colab-df-convert');\n",
              "        buttonEl.style.display =\n",
              "          google.colab.kernel.accessAllowed ? 'block' : 'none';\n",
              "\n",
              "        async function convertToInteractive(key) {\n",
              "          const element = document.querySelector('#df-e77ab0f7-e895-4960-903f-667922a9649b');\n",
              "          const dataTable =\n",
              "            await google.colab.kernel.invokeFunction('convertToInteractive',\n",
              "                                                     [key], {});\n",
              "          if (!dataTable) return;\n",
              "\n",
              "          const docLinkHtml = 'Like what you see? Visit the ' +\n",
              "            '<a target=\"_blank\" href=https://colab.research.google.com/notebooks/data_table.ipynb>data table notebook</a>'\n",
              "            + ' to learn more about interactive tables.';\n",
              "          element.innerHTML = '';\n",
              "          dataTable['output_type'] = 'display_data';\n",
              "          await google.colab.output.renderOutput(dataTable, element);\n",
              "          const docLink = document.createElement('div');\n",
              "          docLink.innerHTML = docLinkHtml;\n",
              "          element.appendChild(docLink);\n",
              "        }\n",
              "      </script>\n",
              "    </div>\n",
              "  </div>\n",
              "  "
            ]
          },
          "metadata": {},
          "execution_count": 21
        }
      ],
      "source": [
        "filter_loan.head()"
      ]
    },
    {
      "cell_type": "code",
      "execution_count": null,
      "metadata": {
        "id": "oS-a2Iotfld-",
        "outputId": "07c77803-2046-4059-d5f3-7027205e6a5d",
        "colab": {
          "base_uri": "https://localhost:8080/"
        }
      },
      "outputs": [
        {
          "output_type": "execute_result",
          "data": {
            "text/plain": [
              "12000    964\n",
              "10000    855\n",
              "6000     698\n",
              "5000     659\n",
              "15000    627\n",
              "        ... \n",
              "23450      1\n",
              "10900      1\n",
              "2675       1\n",
              "24600      1\n",
              "5725       1\n",
              "Name: loan_amnt, Length: 748, dtype: int64"
            ]
          },
          "metadata": {},
          "execution_count": 10
        }
      ],
      "source": [
        "#checking for null values\n",
        "filter_loan.isnull().sum()\n",
        "\n",
        "filter_loan.loan_amnt.value_counts()"
      ]
    },
    {
      "cell_type": "code",
      "execution_count": null,
      "metadata": {
        "id": "AQsj69v1fld_",
        "outputId": "1e57b217-84b3-4da0-cc6b-8c851f312d56",
        "colab": {
          "base_uri": "https://localhost:8080/"
        }
      },
      "outputs": [
        {
          "output_type": "stream",
          "name": "stdout",
          "text": [
            "<class 'pandas.core.frame.DataFrame'>\n",
            "Int64Index: 14720 entries, 0 to 15853\n",
            "Data columns (total 41 columns):\n",
            " #   Column               Non-Null Count  Dtype  \n",
            "---  ------               --------------  -----  \n",
            " 0   id                   14720 non-null  int64  \n",
            " 1   member_id            14720 non-null  int64  \n",
            " 2   loan_amnt            14720 non-null  int64  \n",
            " 3   funded_amnt          14720 non-null  int64  \n",
            " 4   funded_amnt_inv      14720 non-null  float64\n",
            " 5   term                 14720 non-null  object \n",
            " 6   int_rate             14720 non-null  object \n",
            " 7   installment          14720 non-null  float64\n",
            " 8   grade                14720 non-null  object \n",
            " 9   sub_grade            14720 non-null  object \n",
            " 10  emp_title            13755 non-null  object \n",
            " 11  emp_length           14206 non-null  object \n",
            " 12  home_ownership       14720 non-null  object \n",
            " 13  annual_inc           14720 non-null  float64\n",
            " 14  verification_status  14720 non-null  object \n",
            " 15  issue_d              14720 non-null  object \n",
            " 16  loan_status          14720 non-null  object \n",
            " 17  pymnt_plan           14720 non-null  object \n",
            " 18  url                  14720 non-null  object \n",
            " 19  desc                 8591 non-null   object \n",
            " 20  purpose              14720 non-null  object \n",
            " 21  title                14720 non-null  object \n",
            " 22  zip_code             14720 non-null  object \n",
            " 23  addr_state           14720 non-null  object \n",
            " 24  dti                  14720 non-null  float64\n",
            " 25  earliest_cr_line     14720 non-null  object \n",
            " 26  inq_last_6mths       14720 non-null  int64  \n",
            " 27  open_acc             14720 non-null  int64  \n",
            " 28  revol_bal            14720 non-null  int64  \n",
            " 29  revol_util           14713 non-null  object \n",
            " 30  total_acc            14720 non-null  int64  \n",
            " 31  initial_list_status  14720 non-null  object \n",
            " 32  total_pymnt          14720 non-null  float64\n",
            " 33  total_pymnt_inv      14720 non-null  float64\n",
            " 34  total_rec_prncp      14720 non-null  float64\n",
            " 35  total_rec_int        14720 non-null  float64\n",
            " 36  last_pymnt_d         14690 non-null  object \n",
            " 37  last_pymnt_amnt      14720 non-null  float64\n",
            " 38  last_credit_pull_d   14720 non-null  object \n",
            " 39  policy_code          14720 non-null  int64  \n",
            " 40  application_type     14720 non-null  object \n",
            "dtypes: float64(9), int64(9), object(23)\n",
            "memory usage: 4.7+ MB\n"
          ]
        }
      ],
      "source": [
        "#Info regarding the filtered dataset\n",
        "filter_loan.info()"
      ]
    },
    {
      "cell_type": "code",
      "execution_count": null,
      "metadata": {
        "id": "J3R8f8-kfleA",
        "outputId": "d64ebb3e-7ca3-45b0-9641-d6f61464941c",
        "colab": {
          "base_uri": "https://localhost:8080/"
        }
      },
      "outputs": [
        {
          "output_type": "stream",
          "name": "stdout",
          "text": [
            "<class 'pandas.core.frame.DataFrame'>\n",
            "Int64Index: 2520 entries, 0 to 2738\n",
            "Data columns (total 36 columns):\n",
            " #   Column               Non-Null Count  Dtype  \n",
            "---  ------               --------------  -----  \n",
            " 0   id                   2520 non-null   int64  \n",
            " 1   member_id            2520 non-null   int64  \n",
            " 2   loan_amnt            2520 non-null   int64  \n",
            " 3   term                 2520 non-null   object \n",
            " 4   int_rate             2520 non-null   object \n",
            " 5   installment          2520 non-null   float64\n",
            " 6   grade                2520 non-null   object \n",
            " 7   sub_grade            2520 non-null   object \n",
            " 8   emp_length           2458 non-null   object \n",
            " 9   home_ownership       2520 non-null   object \n",
            " 10  annual_inc           2520 non-null   float64\n",
            " 11  verification_status  2520 non-null   object \n",
            " 12  issue_d              2520 non-null   object \n",
            " 13  loan_status          2520 non-null   object \n",
            " 14  pymnt_plan           2520 non-null   object \n",
            " 15  url                  2520 non-null   object \n",
            " 16  desc                 1379 non-null   object \n",
            " 17  purpose              2520 non-null   object \n",
            " 18  title                2520 non-null   object \n",
            " 19  zip_code             2520 non-null   object \n",
            " 20  addr_state           2520 non-null   object \n",
            " 21  dti                  2520 non-null   float64\n",
            " 22  earliest_cr_line     2520 non-null   object \n",
            " 23  inq_last_6mths       2520 non-null   int64  \n",
            " 24  open_acc             2520 non-null   int64  \n",
            " 25  revol_bal            2520 non-null   int64  \n",
            " 26  revol_util           2520 non-null   object \n",
            " 27  total_acc            2520 non-null   int64  \n",
            " 28  initial_list_status  2520 non-null   object \n",
            " 29  total_pymnt          2520 non-null   float64\n",
            " 30  total_pymnt_inv      2520 non-null   float64\n",
            " 31  total_rec_prncp      2520 non-null   float64\n",
            " 32  total_rec_int        2520 non-null   float64\n",
            " 33  last_pymnt_d         2518 non-null   object \n",
            " 34  last_pymnt_amnt      2520 non-null   float64\n",
            " 35  last_credit_pull_d   2520 non-null   object \n",
            "dtypes: float64(8), int64(7), object(21)\n",
            "memory usage: 728.4+ KB\n"
          ]
        }
      ],
      "source": [
        "#deleting unnecessary features\n",
        "filter_loan2 = filter_loan.drop(['member_id','id','pymnt_plan','url','desc','title','zip_code','addr_state','earliest_cr_line','initial_list_status'], axis=1)\n",
        "filter_loan2 = filter_loan.drop(['application_type','policy_code','funded_amnt','funded_amnt_inv','emp_title'], axis = 1)\n",
        "\n",
        "filter_loan2.shape\n",
        "filter_loan2.info()"
      ]
    },
    {
      "cell_type": "code",
      "execution_count": null,
      "metadata": {
        "id": "f8rykvhyfleA",
        "outputId": "d98e62ef-d19f-4c0e-8b6e-bda87e169a64",
        "colab": {
          "base_uri": "https://localhost:8080/",
          "height": 386
        }
      },
      "outputs": [
        {
          "output_type": "execute_result",
          "data": {
            "text/plain": [
              "        id  member_id  loan_amnt        term int_rate  installment grade  \\\n",
              "0  1077501    1296599       5000   36 months   10.65%      162.870     B   \n",
              "1  1077430    1314167       2500   60 months   15.27%       59.830     C   \n",
              "2  1077175    1313524       2400   36 months   15.96%       84.330     C   \n",
              "3  1076863    1277178      10000   36 months   13.49%      339.310     C   \n",
              "5  1075269    1311441       5000   36 months    7.90%      156.460     A   \n",
              "\n",
              "  sub_grade emp_length home_ownership  ...  revol_util total_acc  \\\n",
              "0        B2  10+ years           RENT  ...      83.70%         9   \n",
              "1        C4   < 1 year           RENT  ...       9.40%         4   \n",
              "2        C5  10+ years           RENT  ...      98.50%        10   \n",
              "3        C1  10+ years           RENT  ...         21%        37   \n",
              "5        A4    3 years           RENT  ...      28.30%        12   \n",
              "\n",
              "  initial_list_status total_pymnt total_pymnt_inv total_rec_prncp  \\\n",
              "0                   f    5863.155        5833.840        5000.000   \n",
              "1                   f    1008.710        1008.710         456.460   \n",
              "2                   f    3005.667        3005.670        2400.000   \n",
              "3                   f   12231.890       12231.890       10000.000   \n",
              "5                   f    5632.210        5632.210        5000.000   \n",
              "\n",
              "  total_rec_int last_pymnt_d last_pymnt_amnt last_credit_pull_d  \n",
              "0       863.160       Jan-15         171.620             May-16  \n",
              "1       435.170       Apr-13         119.660             Sep-13  \n",
              "2       605.670       Jun-14         649.910             May-16  \n",
              "3      2214.920       Jan-15         357.480             Apr-16  \n",
              "5       632.210       Jan-15         161.030             Jan-16  \n",
              "\n",
              "[5 rows x 36 columns]"
            ],
            "text/html": [
              "\n",
              "  <div id=\"df-090b95b9-34fd-4513-b418-03a27d365ee2\">\n",
              "    <div class=\"colab-df-container\">\n",
              "      <div>\n",
              "<style scoped>\n",
              "    .dataframe tbody tr th:only-of-type {\n",
              "        vertical-align: middle;\n",
              "    }\n",
              "\n",
              "    .dataframe tbody tr th {\n",
              "        vertical-align: top;\n",
              "    }\n",
              "\n",
              "    .dataframe thead th {\n",
              "        text-align: right;\n",
              "    }\n",
              "</style>\n",
              "<table border=\"1\" class=\"dataframe\">\n",
              "  <thead>\n",
              "    <tr style=\"text-align: right;\">\n",
              "      <th></th>\n",
              "      <th>id</th>\n",
              "      <th>member_id</th>\n",
              "      <th>loan_amnt</th>\n",
              "      <th>term</th>\n",
              "      <th>int_rate</th>\n",
              "      <th>installment</th>\n",
              "      <th>grade</th>\n",
              "      <th>sub_grade</th>\n",
              "      <th>emp_length</th>\n",
              "      <th>home_ownership</th>\n",
              "      <th>...</th>\n",
              "      <th>revol_util</th>\n",
              "      <th>total_acc</th>\n",
              "      <th>initial_list_status</th>\n",
              "      <th>total_pymnt</th>\n",
              "      <th>total_pymnt_inv</th>\n",
              "      <th>total_rec_prncp</th>\n",
              "      <th>total_rec_int</th>\n",
              "      <th>last_pymnt_d</th>\n",
              "      <th>last_pymnt_amnt</th>\n",
              "      <th>last_credit_pull_d</th>\n",
              "    </tr>\n",
              "  </thead>\n",
              "  <tbody>\n",
              "    <tr>\n",
              "      <th>0</th>\n",
              "      <td>1077501</td>\n",
              "      <td>1296599</td>\n",
              "      <td>5000</td>\n",
              "      <td>36 months</td>\n",
              "      <td>10.65%</td>\n",
              "      <td>162.870</td>\n",
              "      <td>B</td>\n",
              "      <td>B2</td>\n",
              "      <td>10+ years</td>\n",
              "      <td>RENT</td>\n",
              "      <td>...</td>\n",
              "      <td>83.70%</td>\n",
              "      <td>9</td>\n",
              "      <td>f</td>\n",
              "      <td>5863.155</td>\n",
              "      <td>5833.840</td>\n",
              "      <td>5000.000</td>\n",
              "      <td>863.160</td>\n",
              "      <td>Jan-15</td>\n",
              "      <td>171.620</td>\n",
              "      <td>May-16</td>\n",
              "    </tr>\n",
              "    <tr>\n",
              "      <th>1</th>\n",
              "      <td>1077430</td>\n",
              "      <td>1314167</td>\n",
              "      <td>2500</td>\n",
              "      <td>60 months</td>\n",
              "      <td>15.27%</td>\n",
              "      <td>59.830</td>\n",
              "      <td>C</td>\n",
              "      <td>C4</td>\n",
              "      <td>&lt; 1 year</td>\n",
              "      <td>RENT</td>\n",
              "      <td>...</td>\n",
              "      <td>9.40%</td>\n",
              "      <td>4</td>\n",
              "      <td>f</td>\n",
              "      <td>1008.710</td>\n",
              "      <td>1008.710</td>\n",
              "      <td>456.460</td>\n",
              "      <td>435.170</td>\n",
              "      <td>Apr-13</td>\n",
              "      <td>119.660</td>\n",
              "      <td>Sep-13</td>\n",
              "    </tr>\n",
              "    <tr>\n",
              "      <th>2</th>\n",
              "      <td>1077175</td>\n",
              "      <td>1313524</td>\n",
              "      <td>2400</td>\n",
              "      <td>36 months</td>\n",
              "      <td>15.96%</td>\n",
              "      <td>84.330</td>\n",
              "      <td>C</td>\n",
              "      <td>C5</td>\n",
              "      <td>10+ years</td>\n",
              "      <td>RENT</td>\n",
              "      <td>...</td>\n",
              "      <td>98.50%</td>\n",
              "      <td>10</td>\n",
              "      <td>f</td>\n",
              "      <td>3005.667</td>\n",
              "      <td>3005.670</td>\n",
              "      <td>2400.000</td>\n",
              "      <td>605.670</td>\n",
              "      <td>Jun-14</td>\n",
              "      <td>649.910</td>\n",
              "      <td>May-16</td>\n",
              "    </tr>\n",
              "    <tr>\n",
              "      <th>3</th>\n",
              "      <td>1076863</td>\n",
              "      <td>1277178</td>\n",
              "      <td>10000</td>\n",
              "      <td>36 months</td>\n",
              "      <td>13.49%</td>\n",
              "      <td>339.310</td>\n",
              "      <td>C</td>\n",
              "      <td>C1</td>\n",
              "      <td>10+ years</td>\n",
              "      <td>RENT</td>\n",
              "      <td>...</td>\n",
              "      <td>21%</td>\n",
              "      <td>37</td>\n",
              "      <td>f</td>\n",
              "      <td>12231.890</td>\n",
              "      <td>12231.890</td>\n",
              "      <td>10000.000</td>\n",
              "      <td>2214.920</td>\n",
              "      <td>Jan-15</td>\n",
              "      <td>357.480</td>\n",
              "      <td>Apr-16</td>\n",
              "    </tr>\n",
              "    <tr>\n",
              "      <th>5</th>\n",
              "      <td>1075269</td>\n",
              "      <td>1311441</td>\n",
              "      <td>5000</td>\n",
              "      <td>36 months</td>\n",
              "      <td>7.90%</td>\n",
              "      <td>156.460</td>\n",
              "      <td>A</td>\n",
              "      <td>A4</td>\n",
              "      <td>3 years</td>\n",
              "      <td>RENT</td>\n",
              "      <td>...</td>\n",
              "      <td>28.30%</td>\n",
              "      <td>12</td>\n",
              "      <td>f</td>\n",
              "      <td>5632.210</td>\n",
              "      <td>5632.210</td>\n",
              "      <td>5000.000</td>\n",
              "      <td>632.210</td>\n",
              "      <td>Jan-15</td>\n",
              "      <td>161.030</td>\n",
              "      <td>Jan-16</td>\n",
              "    </tr>\n",
              "  </tbody>\n",
              "</table>\n",
              "<p>5 rows × 36 columns</p>\n",
              "</div>\n",
              "      <button class=\"colab-df-convert\" onclick=\"convertToInteractive('df-090b95b9-34fd-4513-b418-03a27d365ee2')\"\n",
              "              title=\"Convert this dataframe to an interactive table.\"\n",
              "              style=\"display:none;\">\n",
              "        \n",
              "  <svg xmlns=\"http://www.w3.org/2000/svg\" height=\"24px\"viewBox=\"0 0 24 24\"\n",
              "       width=\"24px\">\n",
              "    <path d=\"M0 0h24v24H0V0z\" fill=\"none\"/>\n",
              "    <path d=\"M18.56 5.44l.94 2.06.94-2.06 2.06-.94-2.06-.94-.94-2.06-.94 2.06-2.06.94zm-11 1L8.5 8.5l.94-2.06 2.06-.94-2.06-.94L8.5 2.5l-.94 2.06-2.06.94zm10 10l.94 2.06.94-2.06 2.06-.94-2.06-.94-.94-2.06-.94 2.06-2.06.94z\"/><path d=\"M17.41 7.96l-1.37-1.37c-.4-.4-.92-.59-1.43-.59-.52 0-1.04.2-1.43.59L10.3 9.45l-7.72 7.72c-.78.78-.78 2.05 0 2.83L4 21.41c.39.39.9.59 1.41.59.51 0 1.02-.2 1.41-.59l7.78-7.78 2.81-2.81c.8-.78.8-2.07 0-2.86zM5.41 20L4 18.59l7.72-7.72 1.47 1.35L5.41 20z\"/>\n",
              "  </svg>\n",
              "      </button>\n",
              "      \n",
              "  <style>\n",
              "    .colab-df-container {\n",
              "      display:flex;\n",
              "      flex-wrap:wrap;\n",
              "      gap: 12px;\n",
              "    }\n",
              "\n",
              "    .colab-df-convert {\n",
              "      background-color: #E8F0FE;\n",
              "      border: none;\n",
              "      border-radius: 50%;\n",
              "      cursor: pointer;\n",
              "      display: none;\n",
              "      fill: #1967D2;\n",
              "      height: 32px;\n",
              "      padding: 0 0 0 0;\n",
              "      width: 32px;\n",
              "    }\n",
              "\n",
              "    .colab-df-convert:hover {\n",
              "      background-color: #E2EBFA;\n",
              "      box-shadow: 0px 1px 2px rgba(60, 64, 67, 0.3), 0px 1px 3px 1px rgba(60, 64, 67, 0.15);\n",
              "      fill: #174EA6;\n",
              "    }\n",
              "\n",
              "    [theme=dark] .colab-df-convert {\n",
              "      background-color: #3B4455;\n",
              "      fill: #D2E3FC;\n",
              "    }\n",
              "\n",
              "    [theme=dark] .colab-df-convert:hover {\n",
              "      background-color: #434B5C;\n",
              "      box-shadow: 0px 1px 3px 1px rgba(0, 0, 0, 0.15);\n",
              "      filter: drop-shadow(0px 1px 2px rgba(0, 0, 0, 0.3));\n",
              "      fill: #FFFFFF;\n",
              "    }\n",
              "  </style>\n",
              "\n",
              "      <script>\n",
              "        const buttonEl =\n",
              "          document.querySelector('#df-090b95b9-34fd-4513-b418-03a27d365ee2 button.colab-df-convert');\n",
              "        buttonEl.style.display =\n",
              "          google.colab.kernel.accessAllowed ? 'block' : 'none';\n",
              "\n",
              "        async function convertToInteractive(key) {\n",
              "          const element = document.querySelector('#df-090b95b9-34fd-4513-b418-03a27d365ee2');\n",
              "          const dataTable =\n",
              "            await google.colab.kernel.invokeFunction('convertToInteractive',\n",
              "                                                     [key], {});\n",
              "          if (!dataTable) return;\n",
              "\n",
              "          const docLinkHtml = 'Like what you see? Visit the ' +\n",
              "            '<a target=\"_blank\" href=https://colab.research.google.com/notebooks/data_table.ipynb>data table notebook</a>'\n",
              "            + ' to learn more about interactive tables.';\n",
              "          element.innerHTML = '';\n",
              "          dataTable['output_type'] = 'display_data';\n",
              "          await google.colab.output.renderOutput(dataTable, element);\n",
              "          const docLink = document.createElement('div');\n",
              "          docLink.innerHTML = docLinkHtml;\n",
              "          element.appendChild(docLink);\n",
              "        }\n",
              "      </script>\n",
              "    </div>\n",
              "  </div>\n",
              "  "
            ]
          },
          "metadata": {},
          "execution_count": 12
        }
      ],
      "source": [
        "filter_loan2.head()"
      ]
    },
    {
      "cell_type": "code",
      "execution_count": null,
      "metadata": {
        "id": "2pC-sbzafleB"
      },
      "outputs": [],
      "source": [
        "# altering data types\n",
        "# deleting months from term\n",
        "# deleting % from interest rate, revol_util\n",
        "\n",
        "filter_loan2['int_rate'] = filter_loan2['int_rate'].str.strip('%').astype('float')\n",
        "filter_loan2['revol_util'] = filter_loan2['revol_util'].str.strip('%').astype('float')\n"
      ]
    },
    {
      "cell_type": "code",
      "execution_count": null,
      "metadata": {
        "id": "9dtjZ20LfleB"
      },
      "outputs": [],
      "source": [
        "\n",
        "filter_loan2['term'] = filter_loan2['term'].str.strip('months').astype('int')"
      ]
    },
    {
      "cell_type": "code",
      "execution_count": null,
      "metadata": {
        "id": "uW59R8_9fleB",
        "outputId": "0943c26e-1f69-4110-cbb0-7d95e8745f83",
        "colab": {
          "base_uri": "https://localhost:8080/"
        }
      },
      "outputs": [
        {
          "output_type": "execute_result",
          "data": {
            "text/plain": [
              "10+ years    609\n",
              "2 years      261\n",
              "5 years      249\n",
              "< 1 year     225\n",
              "4 years      220\n",
              "3 years      208\n",
              "6 years      187\n",
              "1 year       178\n",
              "7 years      136\n",
              "8 years       97\n",
              "9 years       88\n",
              "Name: emp_length, dtype: int64"
            ]
          },
          "metadata": {},
          "execution_count": 15
        }
      ],
      "source": [
        "filter_loan2.head()\n",
        "filter_loan2.emp_length.value_counts()"
      ]
    },
    {
      "cell_type": "code",
      "execution_count": null,
      "metadata": {
        "id": "RffQUq2DfleC",
        "outputId": "d1572e4d-2516-407c-a19a-71c8d6f6ec5c",
        "colab": {
          "base_uri": "https://localhost:8080/"
        }
      },
      "outputs": [
        {
          "output_type": "stream",
          "name": "stdout",
          "text": [
            "<class 'pandas.core.frame.DataFrame'>\n",
            "Int64Index: 2520 entries, 0 to 2738\n",
            "Data columns (total 36 columns):\n",
            " #   Column               Non-Null Count  Dtype  \n",
            "---  ------               --------------  -----  \n",
            " 0   id                   2520 non-null   int64  \n",
            " 1   member_id            2520 non-null   int64  \n",
            " 2   loan_amnt            2520 non-null   int64  \n",
            " 3   term                 2520 non-null   int64  \n",
            " 4   int_rate             2520 non-null   float64\n",
            " 5   installment          2520 non-null   float64\n",
            " 6   grade                2520 non-null   object \n",
            " 7   sub_grade            2520 non-null   object \n",
            " 8   emp_length           2458 non-null   object \n",
            " 9   home_ownership       2520 non-null   object \n",
            " 10  annual_inc           2520 non-null   float64\n",
            " 11  verification_status  2520 non-null   object \n",
            " 12  issue_d              2520 non-null   object \n",
            " 13  loan_status          2520 non-null   object \n",
            " 14  pymnt_plan           2520 non-null   object \n",
            " 15  url                  2520 non-null   object \n",
            " 16  desc                 1379 non-null   object \n",
            " 17  purpose              2520 non-null   object \n",
            " 18  title                2520 non-null   object \n",
            " 19  zip_code             2520 non-null   object \n",
            " 20  addr_state           2520 non-null   object \n",
            " 21  dti                  2520 non-null   float64\n",
            " 22  earliest_cr_line     2520 non-null   object \n",
            " 23  inq_last_6mths       2520 non-null   int64  \n",
            " 24  open_acc             2520 non-null   int64  \n",
            " 25  revol_bal            2520 non-null   int64  \n",
            " 26  revol_util           2520 non-null   float64\n",
            " 27  total_acc            2520 non-null   int64  \n",
            " 28  initial_list_status  2520 non-null   object \n",
            " 29  total_pymnt          2520 non-null   float64\n",
            " 30  total_pymnt_inv      2520 non-null   float64\n",
            " 31  total_rec_prncp      2520 non-null   float64\n",
            " 32  total_rec_int        2520 non-null   float64\n",
            " 33  last_pymnt_d         2518 non-null   object \n",
            " 34  last_pymnt_amnt      2520 non-null   float64\n",
            " 35  last_credit_pull_d   2520 non-null   object \n",
            "dtypes: float64(10), int64(8), object(18)\n",
            "memory usage: 728.4+ KB\n"
          ]
        }
      ],
      "source": [
        "filter_loan2.head()\n",
        "\n",
        "filter_loan2.info()"
      ]
    },
    {
      "cell_type": "code",
      "execution_count": null,
      "metadata": {
        "id": "f-Jh1FoLfleC",
        "outputId": "e5f4076d-d638-461d-bb51-0a7fb482cad6",
        "colab": {
          "base_uri": "https://localhost:8080/"
        }
      },
      "outputs": [
        {
          "output_type": "execute_result",
          "data": {
            "text/plain": [
              "0    2051\n",
              "1     469\n",
              "Name: loan_status, dtype: int64"
            ]
          },
          "metadata": {},
          "execution_count": 18
        }
      ],
      "source": [
        "#Changing Loan Status from text to Boolean values\n",
        "filter_loan2.loan_status.unique()\n",
        "filter_loan2.loan_status = filter_loan2.loan_status.apply(lambda x : 0 if x == 'Fully Paid' else ( 1 if x == 'Charged Off' else x) )\n",
        "filter_loan2.loan_status.value_counts()\n"
      ]
    },
    {
      "cell_type": "code",
      "execution_count": null,
      "metadata": {
        "id": "1rV1WyGofleC",
        "outputId": "62dab2ec-448c-4b67-85cf-a829f31c67a1",
        "colab": {
          "base_uri": "https://localhost:8080/"
        }
      },
      "outputs": [
        {
          "output_type": "stream",
          "name": "stdout",
          "text": [
            "<class 'pandas.core.frame.DataFrame'>\n",
            "Int64Index: 2520 entries, 0 to 2738\n",
            "Data columns (total 38 columns):\n",
            " #   Column               Non-Null Count  Dtype         \n",
            "---  ------               --------------  -----         \n",
            " 0   id                   2520 non-null   int64         \n",
            " 1   member_id            2520 non-null   int64         \n",
            " 2   loan_amnt            2520 non-null   int64         \n",
            " 3   term                 2520 non-null   int64         \n",
            " 4   int_rate             2520 non-null   float64       \n",
            " 5   installment          2520 non-null   float64       \n",
            " 6   grade                2520 non-null   object        \n",
            " 7   sub_grade            2520 non-null   object        \n",
            " 8   emp_length           2458 non-null   object        \n",
            " 9   home_ownership       2520 non-null   object        \n",
            " 10  annual_inc           2520 non-null   float64       \n",
            " 11  verification_status  2520 non-null   object        \n",
            " 12  issue_d              2520 non-null   datetime64[ns]\n",
            " 13  loan_status          2520 non-null   int64         \n",
            " 14  pymnt_plan           2520 non-null   object        \n",
            " 15  url                  2520 non-null   object        \n",
            " 16  desc                 1379 non-null   object        \n",
            " 17  purpose              2520 non-null   object        \n",
            " 18  title                2520 non-null   object        \n",
            " 19  zip_code             2520 non-null   object        \n",
            " 20  addr_state           2520 non-null   object        \n",
            " 21  dti                  2520 non-null   float64       \n",
            " 22  earliest_cr_line     2520 non-null   object        \n",
            " 23  inq_last_6mths       2520 non-null   int64         \n",
            " 24  open_acc             2520 non-null   int64         \n",
            " 25  revol_bal            2520 non-null   int64         \n",
            " 26  revol_util           2520 non-null   float64       \n",
            " 27  total_acc            2520 non-null   int64         \n",
            " 28  initial_list_status  2520 non-null   object        \n",
            " 29  total_pymnt          2520 non-null   float64       \n",
            " 30  total_pymnt_inv      2520 non-null   float64       \n",
            " 31  total_rec_prncp      2520 non-null   float64       \n",
            " 32  total_rec_int        2520 non-null   float64       \n",
            " 33  last_pymnt_d         2518 non-null   datetime64[ns]\n",
            " 34  last_pymnt_amnt      2520 non-null   float64       \n",
            " 35  last_credit_pull_d   2520 non-null   datetime64[ns]\n",
            " 36  issue_year           2520 non-null   int64         \n",
            " 37  issue_m              2520 non-null   int64         \n",
            "dtypes: datetime64[ns](3), float64(10), int64(11), object(14)\n",
            "memory usage: 767.8+ KB\n"
          ]
        }
      ],
      "source": [
        "\n",
        "filter_loan2[['issue_d','last_pymnt_d','last_credit_pull_d']] = filter_loan2[['issue_d','last_pymnt_d','last_credit_pull_d']].apply(pd.to_datetime,format='%b-%y')\n",
        "\n",
        "filter_loan2.last_credit_pull_d.value_counts()\n",
        "filter_loan2['issue_year'] = pd.DatetimeIndex(filter_loan2['issue_d']).year\n",
        "filter_loan2['issue_m'] = pd.DatetimeIndex(filter_loan2['issue_d']).month\n",
        "filter_loan2.info()"
      ]
    },
    {
      "cell_type": "code",
      "execution_count": null,
      "metadata": {
        "id": "cO4pnYqYfleD",
        "outputId": "ed70dc9f-b4e6-48b3-8823-bf5e7850c1fa",
        "colab": {
          "base_uri": "https://localhost:8080/"
        }
      },
      "outputs": [
        {
          "output_type": "execute_result",
          "data": {
            "text/plain": [
              "(2520, 38)"
            ]
          },
          "metadata": {},
          "execution_count": 20
        }
      ],
      "source": [
        "filter_loan2.reset_index(inplace=True, drop=True)\n",
        "prime_loan = filter_loan2     #the final load dataset\n",
        "prime_loan.shape"
      ]
    },
    {
      "cell_type": "markdown",
      "source": [
        "#Univariate Analysis"
      ],
      "metadata": {
        "id": "cEoYL9Tn7j8Z"
      }
    },
    {
      "cell_type": "code",
      "execution_count": null,
      "metadata": {
        "id": "3V0lAFaAfleD",
        "outputId": "58980016-afef-4afe-c9dc-da90bae194b7",
        "colab": {
          "base_uri": "https://localhost:8080/",
          "height": 501
        }
      },
      "outputs": [
        {
          "output_type": "display_data",
          "data": {
            "text/plain": [
              "<Figure size 1080x576 with 1 Axes>"
            ],
            "image/png": "[encoded data removed]"
          },
          "metadata": {
            "needs_background": "light"
          }
        }
      ],
      "source": [
        "\n",
        "prime_loan.loan_amnt.isnull().sum()\n",
        "\n",
        "#Finding Loan amount\n",
        "plt.figure(figsize=(15,8))\n",
        "sns.distplot(prime_loan.loan_amnt, kde = False)\n",
        "plt.show\n",
        "prime_loan.loan_amnt.describe()\n",
        "\n",
        "#Creating Bins For Loan Amount \n",
        "def loan_amount_bkt(amount):\n",
        "    if amount < 5000:\n",
        "        return 'Low'\n",
        "    elif amount >=5000 and amount < 15000:\n",
        "        return 'Medium'\n",
        "    else :\n",
        "        return 'High'\n",
        "\n",
        "prime_loan['loan_amnt_bkt'] = prime_loan['loan_amnt'].apply(lambda x: loan_amount_bkt(x))\n"
      ]
    },
    {
      "cell_type": "code",
      "execution_count": null,
      "metadata": {
        "id": "P_CZSkRdfleD",
        "outputId": "db342a55-0bb0-4220-ea46-616bc9fa64d7",
        "colab": {
          "base_uri": "https://localhost:8080/"
        }
      },
      "outputs": [
        {
          "output_type": "execute_result",
          "data": {
            "text/plain": [
              "Medium       2221\n",
              "High          267\n",
              "Very High      32\n",
              "Name: ann_inc_bkt, dtype: int64"
            ]
          },
          "metadata": {},
          "execution_count": 22
        }
      ],
      "source": [
        "#Looking at Annual Income\n",
        "#Creating Bins For Annual Income\n",
        "def annual_incm_bkt(amount):\n",
        "    if amount < 100000:\n",
        "        return 'Medium'\n",
        "    elif amount > 100000 and amount <=1000000:\n",
        "        return 'High'\n",
        "    else :\n",
        "        return 'Very High'\n",
        "\n",
        "\n",
        "\n",
        "prime_loan['annual_incm_bkt'] = prime_loan['annual_inc'].apply(lambda x: annual_incm_bkt(x))\n",
        "prime_loan.annual_incm_bkt.value_counts()"
      ]
    },
    {
      "cell_type": "code",
      "execution_count": null,
      "metadata": {
        "id": "dRSVWz04fleE",
        "outputId": "ce4eb507-1644-49bf-a3ff-b99e85a6a4db",
        "colab": {
          "base_uri": "https://localhost:8080/"
        }
      },
      "outputs": [
        {
          "output_type": "execute_result",
          "data": {
            "text/plain": [
              "Medium    1301\n",
              "Low        661\n",
              "High       558\n",
              "Name: dti_bkt, dtype: int64"
            ]
          },
          "metadata": {},
          "execution_count": 23
        }
      ],
      "source": [
        "#Developing Buckets for DTI\n",
        "\n",
        "def dti_bkt(dtiStr): # Function to bucket dti\n",
        "    if dtiStr <= 10:\n",
        "        return 'Low'\n",
        "    elif dtiStr > 10 and dtiStr <=20:\n",
        "        return 'Medium'\n",
        "    else:\n",
        "        return 'High'\n",
        "    \n",
        "\n",
        "prime_loan['dti_bkt'] = prime_loan['dti'].apply(lambda x: dti_bkt(x)) # Bucket Dti\n",
        "prime_loan.dti_bkt.value_counts()"
      ]
    },
    {
      "cell_type": "code",
      "execution_count": null,
      "metadata": {
        "id": "-qY27dVvfleE",
        "outputId": "468d9e26-b200-4107-c9af-94eb738b6af4",
        "colab": {
          "base_uri": "https://localhost:8080/",
          "height": 423
        }
      },
      "outputs": [
        {
          "output_type": "execute_result",
          "data": {
            "text/plain": [
              "     int_rate_bkt  int_rate\n",
              "0          Medium    10.650\n",
              "1          Medium    15.270\n",
              "2          Medium    15.960\n",
              "3          Medium    13.490\n",
              "4             Low     7.900\n",
              "...           ...       ...\n",
              "2515          Low     8.900\n",
              "2516       Medium    11.710\n",
              "2517       Medium    17.580\n",
              "2518       Medium    18.640\n",
              "2519          Low     7.900\n",
              "\n",
              "[2520 rows x 2 columns]"
            ],
            "text/html": [
              "\n",
              "  <div id=\"df-404419c9-0e04-474b-be0c-21a2f054bd4b\">\n",
              "    <div class=\"colab-df-container\">\n",
              "      <div>\n",
              "<style scoped>\n",
              "    .dataframe tbody tr th:only-of-type {\n",
              "        vertical-align: middle;\n",
              "    }\n",
              "\n",
              "    .dataframe tbody tr th {\n",
              "        vertical-align: top;\n",
              "    }\n",
              "\n",
              "    .dataframe thead th {\n",
              "        text-align: right;\n",
              "    }\n",
              "</style>\n",
              "<table border=\"1\" class=\"dataframe\">\n",
              "  <thead>\n",
              "    <tr style=\"text-align: right;\">\n",
              "      <th></th>\n",
              "      <th>int_rate_bkt</th>\n",
              "      <th>int_rate</th>\n",
              "    </tr>\n",
              "  </thead>\n",
              "  <tbody>\n",
              "    <tr>\n",
              "      <th>0</th>\n",
              "      <td>Medium</td>\n",
              "      <td>10.650</td>\n",
              "    </tr>\n",
              "    <tr>\n",
              "      <th>1</th>\n",
              "      <td>Medium</td>\n",
              "      <td>15.270</td>\n",
              "    </tr>\n",
              "    <tr>\n",
              "      <th>2</th>\n",
              "      <td>Medium</td>\n",
              "      <td>15.960</td>\n",
              "    </tr>\n",
              "    <tr>\n",
              "      <th>3</th>\n",
              "      <td>Medium</td>\n",
              "      <td>13.490</td>\n",
              "    </tr>\n",
              "    <tr>\n",
              "      <th>4</th>\n",
              "      <td>Low</td>\n",
              "      <td>7.900</td>\n",
              "    </tr>\n",
              "    <tr>\n",
              "      <th>...</th>\n",
              "      <td>...</td>\n",
              "      <td>...</td>\n",
              "    </tr>\n",
              "    <tr>\n",
              "      <th>2515</th>\n",
              "      <td>Low</td>\n",
              "      <td>8.900</td>\n",
              "    </tr>\n",
              "    <tr>\n",
              "      <th>2516</th>\n",
              "      <td>Medium</td>\n",
              "      <td>11.710</td>\n",
              "    </tr>\n",
              "    <tr>\n",
              "      <th>2517</th>\n",
              "      <td>Medium</td>\n",
              "      <td>17.580</td>\n",
              "    </tr>\n",
              "    <tr>\n",
              "      <th>2518</th>\n",
              "      <td>Medium</td>\n",
              "      <td>18.640</td>\n",
              "    </tr>\n",
              "    <tr>\n",
              "      <th>2519</th>\n",
              "      <td>Low</td>\n",
              "      <td>7.900</td>\n",
              "    </tr>\n",
              "  </tbody>\n",
              "</table>\n",
              "<p>2520 rows × 2 columns</p>\n",
              "</div>\n",
              "      <button class=\"colab-df-convert\" onclick=\"convertToInteractive('df-404419c9-0e04-474b-be0c-21a2f054bd4b')\"\n",
              "              title=\"Convert this dataframe to an interactive table.\"\n",
              "              style=\"display:none;\">\n",
              "        \n",
              "  <svg xmlns=\"http://www.w3.org/2000/svg\" height=\"24px\"viewBox=\"0 0 24 24\"\n",
              "       width=\"24px\">\n",
              "    <path d=\"M0 0h24v24H0V0z\" fill=\"none\"/>\n",
              "    <path d=\"M18.56 5.44l.94 2.06.94-2.06 2.06-.94-2.06-.94-.94-2.06-.94 2.06-2.06.94zm-11 1L8.5 8.5l.94-2.06 2.06-.94-2.06-.94L8.5 2.5l-.94 2.06-2.06.94zm10 10l.94 2.06.94-2.06 2.06-.94-2.06-.94-.94-2.06-.94 2.06-2.06.94z\"/><path d=\"M17.41 7.96l-1.37-1.37c-.4-.4-.92-.59-1.43-.59-.52 0-1.04.2-1.43.59L10.3 9.45l-7.72 7.72c-.78.78-.78 2.05 0 2.83L4 21.41c.39.39.9.59 1.41.59.51 0 1.02-.2 1.41-.59l7.78-7.78 2.81-2.81c.8-.78.8-2.07 0-2.86zM5.41 20L4 18.59l7.72-7.72 1.47 1.35L5.41 20z\"/>\n",
              "  </svg>\n",
              "      </button>\n",
              "      \n",
              "  <style>\n",
              "    .colab-df-container {\n",
              "      display:flex;\n",
              "      flex-wrap:wrap;\n",
              "      gap: 12px;\n",
              "    }\n",
              "\n",
              "    .colab-df-convert {\n",
              "      background-color: #E8F0FE;\n",
              "      border: none;\n",
              "      border-radius: 50%;\n",
              "      cursor: pointer;\n",
              "      display: none;\n",
              "      fill: #1967D2;\n",
              "      height: 32px;\n",
              "      padding: 0 0 0 0;\n",
              "      width: 32px;\n",
              "    }\n",
              "\n",
              "    .colab-df-convert:hover {\n",
              "      background-color: #E2EBFA;\n",
              "      box-shadow: 0px 1px 2px rgba(60, 64, 67, 0.3), 0px 1px 3px 1px rgba(60, 64, 67, 0.15);\n",
              "      fill: #174EA6;\n",
              "    }\n",
              "\n",
              "    [theme=dark] .colab-df-convert {\n",
              "      background-color: #3B4455;\n",
              "      fill: #D2E3FC;\n",
              "    }\n",
              "\n",
              "    [theme=dark] .colab-df-convert:hover {\n",
              "      background-color: #434B5C;\n",
              "      box-shadow: 0px 1px 3px 1px rgba(0, 0, 0, 0.15);\n",
              "      filter: drop-shadow(0px 1px 2px rgba(0, 0, 0, 0.3));\n",
              "      fill: #FFFFFF;\n",
              "    }\n",
              "  </style>\n",
              "\n",
              "      <script>\n",
              "        const buttonEl =\n",
              "          document.querySelector('#df-404419c9-0e04-474b-be0c-21a2f054bd4b button.colab-df-convert');\n",
              "        buttonEl.style.display =\n",
              "          google.colab.kernel.accessAllowed ? 'block' : 'none';\n",
              "\n",
              "        async function convertToInteractive(key) {\n",
              "          const element = document.querySelector('#df-404419c9-0e04-474b-be0c-21a2f054bd4b');\n",
              "          const dataTable =\n",
              "            await google.colab.kernel.invokeFunction('convertToInteractive',\n",
              "                                                     [key], {});\n",
              "          if (!dataTable) return;\n",
              "\n",
              "          const docLinkHtml = 'Like what you see? Visit the ' +\n",
              "            '<a target=\"_blank\" href=https://colab.research.google.com/notebooks/data_table.ipynb>data table notebook</a>'\n",
              "            + ' to learn more about interactive tables.';\n",
              "          element.innerHTML = '';\n",
              "          dataTable['output_type'] = 'display_data';\n",
              "          await google.colab.output.renderOutput(dataTable, element);\n",
              "          const docLink = document.createElement('div');\n",
              "          docLink.innerHTML = docLinkHtml;\n",
              "          element.appendChild(docLink);\n",
              "        }\n",
              "      </script>\n",
              "    </div>\n",
              "  </div>\n",
              "  "
            ]
          },
          "metadata": {},
          "execution_count": 24
        }
      ],
      "source": [
        "# Bucket interest rates \n",
        "def int_rate_bkt(amount):\n",
        "    if amount <= 10:\n",
        "        return 'Low'\n",
        "    elif amount > 10 and amount <=20:\n",
        "        return 'Medium'\n",
        "    else :\n",
        "        return 'High'\n",
        "prime_loan['int_rate_bkt'] = prime_loan['int_rate'].apply(lambda x: int_rate_bkt(x))\n",
        "prime_loan[['int_rate_bkt','int_rate']]\n"
      ]
    },
    {
      "cell_type": "code",
      "execution_count": null,
      "metadata": {
        "id": "hqp7HLWBfleE",
        "outputId": "04b46609-5e95-43f6-f845-1e159273fa88",
        "colab": {
          "base_uri": "https://localhost:8080/",
          "height": 352
        }
      },
      "outputs": [
        {
          "output_type": "execute_result",
          "data": {
            "text/plain": [
              "count     2520\n",
              "unique       7\n",
              "top          B\n",
              "freq       844\n",
              "Name: grade, dtype: object"
            ]
          },
          "metadata": {},
          "execution_count": 25
        },
        {
          "output_type": "display_data",
          "data": {
            "text/plain": [
              "<Figure size 432x288 with 1 Axes>"
            ],
            "image/png": "[encoded data removed]"
          },
          "metadata": {
            "needs_background": "light"
          }
        }
      ],
      "source": [
        "#Plotting histogram for checking mode value and grade\n",
        "plt.hist(prime_loan.grade)\n",
        "plt.show\n",
        "prime_loan.grade.describe()\n",
        "\n",
        "#Observation : Grade B is associated with maximum applicants"
      ]
    },
    {
      "cell_type": "code",
      "execution_count": null,
      "metadata": {
        "id": "Cm8mu5nefleF",
        "outputId": "c7e898c1-69fc-4b64-d8f7-b0f0c3c46cbd",
        "colab": {
          "base_uri": "https://localhost:8080/",
          "height": 352
        }
      },
      "outputs": [
        {
          "output_type": "execute_result",
          "data": {
            "text/plain": [
              "count     2520\n",
              "unique      34\n",
              "top         B3\n",
              "freq       195\n",
              "Name: sub_grade, dtype: object"
            ]
          },
          "metadata": {},
          "execution_count": 26
        },
        {
          "output_type": "display_data",
          "data": {
            "text/plain": [
              "<Figure size 432x288 with 1 Axes>"
            ],
            "image/png": "[encoded data removed]"
          },
          "metadata": {
            "needs_background": "light"
          }
        }
      ],
      "source": [
        "#Histogram for subgrade and checking mode value\n",
        "plt.hist(prime_loan.sub_grade)\n",
        "plt.show\n",
        "prime_loan.sub_grade.describe()\n",
        "\n",
        "#Observation : Sub-grade B3 has most applicants"
      ]
    },
    {
      "cell_type": "code",
      "execution_count": null,
      "metadata": {
        "id": "zZVIh5w1fleF"
      },
      "outputs": [],
      "source": [
        "#Plotting histogram for emploment length and checking mode value\n",
        "prime_loan.emp_length.isnull().sum()\n",
        "\n",
        "prime_loan.emp_length.describe()\n",
        "prime_loan.emp_length.value_counts()\n",
        "\n",
        "#Since the percentage of missing data is 2.75 percent, Imputing emp length.Because the data is categorical, the mode is appropriate.\n",
        "\n",
        "prime_loan.emp_length = prime_loan.emp_length.fillna('10+ years')\n",
        "\n",
        "\n",
        "\n",
        "\n"
      ]
    },
    {
      "cell_type": "code",
      "execution_count": null,
      "metadata": {
        "id": "Y587-aB0fleF",
        "outputId": "f3f407ea-164e-45d9-b323-dd65f87189f1",
        "colab": {
          "base_uri": "https://localhost:8080/",
          "height": 286
        }
      },
      "outputs": [
        {
          "output_type": "execute_result",
          "data": {
            "text/plain": [
              "<function matplotlib.pyplot.show>"
            ]
          },
          "metadata": {},
          "execution_count": 28
        },
        {
          "output_type": "display_data",
          "data": {
            "text/plain": [
              "<Figure size 432x288 with 1 Axes>"
            ],
            "image/png": "[encoded data removed]"
          },
          "metadata": {
            "needs_background": "light"
          }
        }
      ],
      "source": [
        "plt.hist(prime_loan.emp_length)\n",
        "plt.show"
      ]
    },
    {
      "cell_type": "markdown",
      "source": [
        "##Segmented Univariate Analysis"
      ],
      "metadata": {
        "id": "tnf9YiUK9OZO"
      }
    },
    {
      "cell_type": "code",
      "execution_count": null,
      "metadata": {
        "id": "6klVIttVfleG",
        "outputId": "8baa2db8-2ef4-4259-8886-bcc5371d62e7",
        "colab": {
          "base_uri": "https://localhost:8080/",
          "height": 437
        }
      },
      "outputs": [
        {
          "output_type": "display_data",
          "data": {
            "text/plain": [
              "<Figure size 504x432 with 1 Axes>"
            ],
            "image/png": "[encoded data removed]"
          },
          "metadata": {
            "needs_background": "light"
          }
        }
      ],
      "source": [
        "\n",
        "#Utilising Seaborn Barplot\n",
        "#Using Seaborn, because it works best with dataframes\n",
        "\n",
        "\n",
        "#Top Defaulters by Grade\n",
        "plt.figure(figsize=(7,6))\n",
        "sns.set(style=\"whitegrid\")\n",
        "result = prime_loan.groupby([\"grade\"])['loan_status'].aggregate(np.mean).reset_index().sort_values('loan_status', ascending = False)\n",
        "ax = sns.barplot(x= 'grade', y = 'loan_status', data = prime_loan,ci=None, palette=\"Blues_d\", order = result['grade'] )\n",
        "\n",
        "#set labels\n",
        "plt.xlabel(\"Grade\", size=15)\n",
        "plt.ylabel(\"Default Rate\", size=15)\n",
        "plt.title(\"Average Default Rates By Grade\", size=20)\n",
        "plt.tight_layout()\n",
        "plt.savefig(\"Average Default Rates By Grade.png\", dpi=100)\n",
        "plt.show()\n"
      ]
    },
    {
      "cell_type": "markdown",
      "metadata": {
        "id": "mseKM_8wfleG"
      },
      "source": [
        "**Observations** : Higher grades have been linked to a rise in the number of people who default. Grades in the G, F, E, and D grading scales have been shown to be very hazardous and should be avoided at all costs."
      ]
    },
    {
      "cell_type": "code",
      "execution_count": null,
      "metadata": {
        "id": "0CrFgUc8fleH",
        "outputId": "5ff9a4b7-7804-4310-cc3c-7b92ce676b86",
        "colab": {
          "base_uri": "https://localhost:8080/",
          "height": 437
        }
      },
      "outputs": [
        {
          "output_type": "display_data",
          "data": {
            "text/plain": [
              "<Figure size 504x432 with 1 Axes>"
            ],
            "image/png": "[encoded data removed]"
          },
          "metadata": {}
        }
      ],
      "source": [
        "#Top Defaulters by Term\n",
        "plt.figure(figsize=(7,6))\n",
        "sns.set(style=\"whitegrid\")\n",
        "result = prime_loan.groupby([\"term\"])['loan_status'].aggregate(np.mean).reset_index().sort_values('loan_status', ascending = False)\n",
        "ax = sns.barplot(x= 'term', y = 'loan_status', data = prime_loan,ci=None, palette=\"rocket\",order = result['term'] )\n",
        "\n",
        "#set labels\n",
        "plt.xlabel(\"Term\", size=15)\n",
        "plt.ylabel(\"Default Rate\", size=15)\n",
        "plt.title(\"Average Default Rates By Term\", size=20)\n",
        "plt.tight_layout()\n",
        "plt.savefig(\"Average Default Rates By Term.png\", dpi=100)\n",
        "plt.show()"
      ]
    },
    {
      "cell_type": "markdown",
      "metadata": {
        "id": "oqZXdBU9fleH"
      },
      "source": [
        "**Observations** : Higher default rates are being seen on loans having a period of 60 months or more. We'll look at the riskiest types of loans in more detail by examining them according to their intended use."
      ]
    },
    {
      "cell_type": "code",
      "execution_count": null,
      "metadata": {
        "id": "UNI2aPcKfleH",
        "outputId": "74504432-6c73-4c75-8516-3ce9d826fc91",
        "colab": {
          "base_uri": "https://localhost:8080/",
          "height": 437
        }
      },
      "outputs": [
        {
          "output_type": "display_data",
          "data": {
            "text/plain": [
              "<Figure size 864x432 with 1 Axes>"
            ],
            "image/png": "[encoded data removed]"
          },
          "metadata": {}
        }
      ],
      "source": [
        "#Top Defaulters by SubGrades\n",
        "plt.figure(figsize=(12,6))\n",
        "sns.set(style=\"whitegrid\")\n",
        "result = prime_loan.groupby([\"sub_grade\"])['loan_status'].aggregate(np.mean).reset_index().sort_values('loan_status', ascending = False)\n",
        "ax = sns.barplot(x= 'sub_grade', y = 'loan_status', data = prime_loan,ci=None, palette=\"Blues_d\", order = result['sub_grade'] )\n",
        "\n",
        "#set labels\n",
        "plt.xlabel(\"Sub Grade\", size=15)\n",
        "plt.ylabel(\"Default Rate\", size=15)\n",
        "plt.title(\"Average Default Rates By sub_grade\", size=20)\n",
        "plt.tight_layout()\n",
        "plt.savefig(\"Average Default Rates By sub_grade.png\", dpi=100)\n",
        "plt.show()"
      ]
    },
    {
      "cell_type": "markdown",
      "metadata": {
        "id": "WUbmUqIIfleI"
      },
      "source": [
        "**Observations** : Sub grade G2, F5, F1-D4, are proving to be at risk."
      ]
    },
    {
      "cell_type": "code",
      "execution_count": null,
      "metadata": {
        "id": "A7auRs3xfleI",
        "outputId": "a68cb1e1-4fcf-4445-ad5f-6c8189b4d10c",
        "colab": {
          "base_uri": "https://localhost:8080/",
          "height": 437
        }
      },
      "outputs": [
        {
          "output_type": "display_data",
          "data": {
            "text/plain": [
              "<Figure size 504x432 with 1 Axes>"
            ],
            "image/png": "[encoded data removed]"
          },
          "metadata": {}
        }
      ],
      "source": [
        "#Top Defaulters by Home Ownership\n",
        "plt.figure(figsize=(7,6))\n",
        "sns.set(style=\"whitegrid\")\n",
        "result = prime_loan.groupby([\"home_ownership\"])['loan_status'].aggregate(np.mean).reset_index().sort_values('loan_status', ascending = False)\n",
        "ax = sns.barplot(x= 'home_ownership', y = 'loan_status', data = prime_loan,ci=None, palette=\"Blues_d\", order = result['home_ownership'] )\n",
        "\n",
        "#set labels\n",
        "plt.xlabel(\"Home Ownership\", size=15)\n",
        "plt.ylabel(\"Default Rate\", size=15)\n",
        "plt.title(\"Average default rates by Home Ownership\", size=20)\n",
        "plt.tight_layout()\n",
        "plt.savefig(\"Average Default Rates By Home Ownership.png\", dpi=100)\n",
        "plt.show()"
      ]
    },
    {
      "cell_type": "markdown",
      "metadata": {
        "id": "ufa00O6gfleI"
      },
      "source": [
        "**Observations** : Loans that are taken by people marked as \"Rent\" have highest risk associated with them."
      ]
    },
    {
      "cell_type": "code",
      "execution_count": null,
      "metadata": {
        "id": "H7EjlZidfleI",
        "outputId": "e68f4274-c8b1-4929-d86f-dade84a0bbc9",
        "colab": {
          "base_uri": "https://localhost:8080/",
          "height": 512
        }
      },
      "outputs": [
        {
          "output_type": "display_data",
          "data": {
            "text/plain": [
              "<Figure size 864x432 with 1 Axes>"
            ],
            "image/png": "[encoded data removed]"
          },
          "metadata": {}
        }
      ],
      "source": [
        "#Top Defaulters by Loan purpose\n",
        "plt.figure(figsize=(12,6))\n",
        "sns.set(style=\"whitegrid\")\n",
        "result = prime_loan.groupby([\"purpose\"])['loan_status'].aggregate(np.mean).reset_index().sort_values('loan_status', ascending = False)\n",
        "ax = sns.barplot(x= 'purpose', y = 'loan_status', data = prime_loan,ci=None, palette=\"BuPu_r\", order = result['purpose'] )\n",
        "\n",
        "#set labels\n",
        "plt.xlabel(\"Purpose Of Loan\", size=15)\n",
        "plt.ylabel(\"Default Rate\", size=15)\n",
        "plt.title(\"Average Default Rates By Purpose Of Loan\", size=20)\n",
        "plt.tight_layout()\n",
        "plt.savefig(\"Average Default Rates By Purpose Of Loan.png\", dpi=100)\n",
        "ax.set_xticklabels(ax.get_xticklabels(), rotation=45)\n",
        "plt.show()\n"
      ]
    },
    {
      "cell_type": "markdown",
      "metadata": {
        "id": "j0Hla6TOfleJ"
      },
      "source": [
        "**Observations** : This plot is quite interesting as the most riskiest category is small businesses which is followed by other adn then wedding. This will further be analyzed in following section."
      ]
    },
    {
      "cell_type": "code",
      "execution_count": null,
      "metadata": {
        "id": "LH2BL7kTfleJ",
        "outputId": "66bbfbe1-25ab-4006-c53b-708e82328d4f",
        "colab": {
          "base_uri": "https://localhost:8080/",
          "height": 437
        }
      },
      "outputs": [
        {
          "output_type": "display_data",
          "data": {
            "text/plain": [
              "<Figure size 504x432 with 1 Axes>"
            ],
            "image/png": "[encoded data removed]"
          },
          "metadata": {}
        }
      ],
      "source": [
        "#Top Defaulters by Loan Amount\n",
        "plt.figure(figsize=(7,6))\n",
        "sns.set(style=\"whitegrid\")\n",
        "result = prime_loan.groupby(['loan_amnt_bkt'])['loan_status'].aggregate(np.mean).reset_index().sort_values('loan_status', ascending = False)\n",
        "ax = sns.barplot(x= 'loan_amnt_bkt', y = 'loan_status', data = prime_loan,ci=None, palette=\"BuPu_r\", order = result['loan_amnt_bkt'])\n",
        "\n",
        "#set labels\n",
        "plt.xlabel(\"Loan Amount Bucket\", size=15)\n",
        "plt.ylabel(\"Default Rate\", size=15)\n",
        "plt.title(\"Average Default Rates By Loan Amount Bucket\", size=20)\n",
        "plt.tight_layout()\n",
        "plt.savefig(\"Average Default Rates By Loan Amount Bucket.png\", dpi=100)\n",
        "plt.show()"
      ]
    },
    {
      "cell_type": "markdown",
      "metadata": {
        "id": "N1OI0QcIfleJ"
      },
      "source": [
        "**Observations** : In loan amount bucket, it can be seen that High category is associated with most defaulters followed by low and medium, which seems to be quite unusual. "
      ]
    },
    {
      "cell_type": "code",
      "execution_count": null,
      "metadata": {
        "id": "0JFAYl1BfleJ",
        "outputId": "84e39837-520c-4dc3-fe7c-37461c6dc9d0",
        "colab": {
          "base_uri": "https://localhost:8080/",
          "height": 437
        }
      },
      "outputs": [
        {
          "output_type": "display_data",
          "data": {
            "text/plain": [
              "<Figure size 504x432 with 1 Axes>"
            ],
            "image/png": "[encoded data removed]"
          },
          "metadata": {}
        }
      ],
      "source": [
        "#Top Defaulters by Annual Income\n",
        "plt.figure(figsize=(7,6))\n",
        "sns.set(style=\"whitegrid\")\n",
        "result = prime_loan.groupby(['annual_incm_bkt'])['loan_status'].aggregate(np.mean).reset_index().sort_values('loan_status', ascending = False)\n",
        "ax = sns.barplot(x= 'annual_incm_bkt', y = 'loan_status', data = prime_loan,ci=None, palette=\"Greys_r\", order = result['annual_incm_bkt'])\n",
        "\n",
        "#set labels\n",
        "plt.xlabel(\"Annual Income Bucket\", size=15)\n",
        "plt.ylabel(\"Default Rate\", size=15)\n",
        "plt.title(\"Average Default Rates By Annual Income Bucket\", size=20)\n",
        "plt.tight_layout()\n",
        "plt.savefig(\"Average Default Rates By Annual Income Bucket.png\", dpi=100)\n",
        "plt.show()"
      ]
    },
    {
      "cell_type": "markdown",
      "metadata": {
        "id": "8-OwQxOUfleK"
      },
      "source": [
        "**Observations** : Those with an annual income in the moderate and high range have the greatest default rates. In bivariate analysis, we can examine whether this is since they requested larger loan amounts."
      ]
    },
    {
      "cell_type": "code",
      "execution_count": null,
      "metadata": {
        "id": "LJy1FVrdfleK",
        "outputId": "474b6d51-4cde-4af1-a5c1-706af9c28b29",
        "colab": {
          "base_uri": "https://localhost:8080/",
          "height": 437
        }
      },
      "outputs": [
        {
          "output_type": "display_data",
          "data": {
            "text/plain": [
              "<Figure size 504x432 with 1 Axes>"
            ],
            "image/png": "[encoded data removed]"
          },
          "metadata": {}
        }
      ],
      "source": [
        "#Top Defaulters by Interest Rate Bucket\n",
        "plt.figure(figsize=(7,6))\n",
        "sns.set(style=\"whitegrid\")\n",
        "result = prime_loan.groupby(['int_rate_bkt'])['loan_status'].aggregate(np.mean).reset_index().sort_values('loan_status', ascending = False)\n",
        "ax = sns.barplot(x= 'int_rate_bkt', y = 'loan_status', data = prime_loan,ci=None, palette=\"RdPu_r\", order = result['int_rate_bkt'])\n",
        "\n",
        "#set labels\n",
        "plt.xlabel(\"Interest Rate Bucket\", size=15)\n",
        "plt.ylabel(\"Default Rate\", size=15)\n",
        "plt.title(\"Average Default Rates By Interest Rate Bucket\", size=20)\n",
        "plt.tight_layout()\n",
        "plt.savefig(\"Average Default Rates By Interest Rate Bucket.png\", dpi=100)\n",
        "plt.show()"
      ]
    },
    {
      "cell_type": "markdown",
      "metadata": {
        "id": "IbG7baBZfleK"
      },
      "source": [
        "**Observations** : Interest rates on riskier loans have risen in recent years, which has led to a rise in default rates."
      ]
    },
    {
      "cell_type": "markdown",
      "source": [
        "# Bivariate Analysis"
      ],
      "metadata": {
        "id": "r3DCnsCEAGzh"
      }
    },
    {
      "cell_type": "code",
      "execution_count": null,
      "metadata": {
        "id": "UlD4UZ8yfleL",
        "outputId": "3b4b01c9-704a-457a-ace4-6641882a9b72",
        "colab": {
          "base_uri": "https://localhost:8080/"
        }
      },
      "outputs": [
        {
          "output_type": "execute_result",
          "data": {
            "text/plain": [
              "array(['small_business', 'other', 'wedding'], dtype=object)"
            ]
          },
          "metadata": {},
          "execution_count": 63
        }
      ],
      "source": [
        "\n",
        "#We'd like to concentrate our investigation on the top three loan purposes with the greatest default rate.\n",
        "top_3 = prime_loan[prime_loan.purpose.isin(['small_business','other','wedding'])]\n",
        "top_3.purpose.unique()"
      ]
    },
    {
      "cell_type": "code",
      "execution_count": null,
      "metadata": {
        "id": "Ui6ng5gpfleL"
      },
      "outputs": [],
      "source": [
        "#A bivariate analysis function is created since it will be used often and to avoid any redunduncy. \n",
        "def bivariate(var):\n",
        "    \n",
        "    plt.figure(figsize=[12, 7])\n",
        "    \n",
        "    plot = sns.barplot(x=var, y=\"loan_status\", hue='purpose',data=top_3, ci=None, palette=\"pastel\")\n",
        "    plt.xlabel(var, size=15)\n",
        "    plt.ylabel(\"Avg. Loan Default Rate\", size=15)\n",
        "    plt.title(\"Default Rate vs.\"+\" \"+var, size=20)\n",
        "    \n",
        "    plt.setp(plot.get_legend().get_texts(), fontsize='20') # for legend text\n",
        "    plt.setp(plot.get_legend().get_title(), fontsize='25') # for legend title\n",
        "\n",
        "    plt.tight_layout()\n",
        "    plt.show()"
      ]
    },
    {
      "cell_type": "code",
      "execution_count": null,
      "metadata": {
        "id": "IdNdu5N2fleL",
        "outputId": "bf2a89c6-6822-45e2-c931-d1613c9977bc",
        "colab": {
          "base_uri": "https://localhost:8080/",
          "height": 509
        }
      },
      "outputs": [
        {
          "output_type": "display_data",
          "data": {
            "text/plain": [
              "<Figure size 864x504 with 1 Axes>"
            ],
            "image/png": "[encoded data removed]"
          },
          "metadata": {}
        }
      ],
      "source": [
        "bivariate('term')"
      ]
    },
    {
      "cell_type": "markdown",
      "metadata": {
        "id": "RiMakFzHfleL"
      },
      "source": [
        "**Observations** :Lending Club should discontinue lending long-term loans to small businesses, others, and wedding purposes, since more than a third of these borrowers have defaulted on their payments."
      ]
    },
    {
      "cell_type": "code",
      "execution_count": null,
      "metadata": {
        "id": "hXm6Qdd1fleL",
        "outputId": "59663fee-c546-494c-c5a1-dca10b9657fa",
        "colab": {
          "base_uri": "https://localhost:8080/",
          "height": 509
        }
      },
      "outputs": [
        {
          "output_type": "display_data",
          "data": {
            "text/plain": [
              "<Figure size 864x504 with 1 Axes>"
            ],
            "image/png": "[encoded data removed]"
          },
          "metadata": {}
        }
      ],
      "source": [
        "#Plot for interest rate vs average default rate\n",
        "bivariate('int_rate_bkt')"
      ]
    },
    {
      "cell_type": "markdown",
      "metadata": {
        "id": "Kb_V7WzyfleL"
      },
      "source": [
        "**Observations** : Each interest rate category, small businesses and others are among the top defaulters. LC should use extreme caution when approving loans for these reasons, particularly in the higher interest brackets. There are no exceptions to this rule when it comes to high-interest loans for weddings."
      ]
    },
    {
      "cell_type": "code",
      "execution_count": null,
      "metadata": {
        "id": "zWluzWRyfleM",
        "outputId": "04d4f22b-1dbe-4b0a-ac2c-4ad8878610b2",
        "colab": {
          "base_uri": "https://localhost:8080/",
          "height": 509
        }
      },
      "outputs": [
        {
          "output_type": "display_data",
          "data": {
            "text/plain": [
              "<Figure size 864x504 with 1 Axes>"
            ],
            "image/png": "[encoded data removed]"
          },
          "metadata": {}
        }
      ],
      "source": [
        "#Plot for loan amount vs average default rate for top 3 default purposes\n",
        "bivariate('loan_amnt_bkt')"
      ]
    },
    {
      "cell_type": "markdown",
      "metadata": {
        "id": "cejVCcpwfleM"
      },
      "source": [
        "**Observations** : Small business loans with a large loan amount and wedding with a low loan amount must not be granted since more than 40% of them default."
      ]
    },
    {
      "cell_type": "code",
      "execution_count": null,
      "metadata": {
        "id": "0InNbwUMfleM",
        "outputId": "75b90a6a-931d-4ef8-e845-fb1a9451cf89",
        "colab": {
          "base_uri": "https://localhost:8080/",
          "height": 509
        }
      },
      "outputs": [
        {
          "output_type": "display_data",
          "data": {
            "text/plain": [
              "<Figure size 864x504 with 1 Axes>"
            ],
            "image/png": "[encoded data removed]"
          },
          "metadata": {}
        }
      ],
      "source": [
        "bivariate('annual_incm_bkt')"
      ]
    },
    {
      "cell_type": "markdown",
      "metadata": {
        "id": "-Q0cagxYfleM"
      },
      "source": [
        "**Observations** : Here, Other categories are defaulting the most at annual income bucket followed by small business in medium annual income bucket."
      ]
    },
    {
      "cell_type": "code",
      "execution_count": null,
      "metadata": {
        "id": "T23CbA0PfleM",
        "outputId": "ce6d5276-e3e3-4e38-9bfb-489eb0cc838a",
        "colab": {
          "base_uri": "https://localhost:8080/",
          "height": 509
        }
      },
      "outputs": [
        {
          "output_type": "display_data",
          "data": {
            "text/plain": [
              "<Figure size 864x504 with 1 Axes>"
            ],
            "image/png": "[encoded data removed]"
          },
          "metadata": {}
        }
      ],
      "source": [
        "bivariate('dti_bkt')"
      ]
    },
    {
      "cell_type": "markdown",
      "metadata": {
        "id": "dw13gD-KfleM"
      },
      "source": [
        "**Observations** : Small businesses and other categories are defaulting highest at all the DTI - low, medium, and high."
      ]
    },
    {
      "cell_type": "code",
      "execution_count": null,
      "metadata": {
        "id": "EKOyNHSwfleN",
        "outputId": "a45225c8-c36a-4c5a-88b2-87c4a5972801",
        "colab": {
          "base_uri": "https://localhost:8080/",
          "height": 509
        }
      },
      "outputs": [
        {
          "output_type": "display_data",
          "data": {
            "text/plain": [
              "<Figure size 864x504 with 1 Axes>"
            ],
            "image/png": "[encoded data removed]"
          },
          "metadata": {}
        }
      ],
      "source": [
        "bivariate('int_rate_bkt')"
      ]
    },
    {
      "cell_type": "markdown",
      "metadata": {
        "id": "w6aezcz2fleN"
      },
      "source": [
        "**Observations** : Small business with high interest rate are defaultig at 100%. LC should avoid doing this and do not give loans to small business."
      ]
    },
    {
      "cell_type": "code",
      "execution_count": null,
      "metadata": {
        "id": "yvqPxk2mfleN",
        "outputId": "4a332540-1573-43ed-c24d-23540c71177f",
        "colab": {
          "base_uri": "https://localhost:8080/"
        }
      },
      "outputs": [
        {
          "output_type": "execute_result",
          "data": {
            "text/plain": [
              "<module 'seaborn' from '/usr/local/lib/python3.7/dist-packages/seaborn/__init__.py'>"
            ]
          },
          "metadata": {},
          "execution_count": 47
        }
      ],
      "source": [
        "sns"
      ]
    },
    {
      "cell_type": "code",
      "execution_count": null,
      "metadata": {
        "id": "i8MZoBRbfleN",
        "outputId": "b5fb49c4-1b9f-4920-cbfa-763113cd81b5",
        "colab": {
          "base_uri": "https://localhost:8080/",
          "height": 509
        }
      },
      "outputs": [
        {
          "output_type": "display_data",
          "data": {
            "text/plain": [
              "<Figure size 864x504 with 1 Axes>"
            ],
            "image/png": "[encoded data removed]"
          },
          "metadata": {}
        }
      ],
      "source": [
        "# Default Rate Vs Annual Income Bucket   \n",
        "plt.figure(figsize=[12, 7])\n",
        "    \n",
        "plot = sns.barplot(x= 'annual_incm_bkt', y=\"loan_status\", hue='loan_amnt_bkt',data=top_3, ci=None, palette=\"pastel\")\n",
        "plt.xlabel(\"Annual Income Bucket\", size=15)\n",
        "plt.ylabel(\"Avg. Loan Default Rate\", size=15)\n",
        "plt.title(\"Default Rate vs Annual Income Bucket \", size=20)\n",
        "    \n",
        "plt.setp(plot.get_legend().get_texts(), fontsize='20') # for legend text\n",
        "plt.setp(plot.get_legend().get_title(), fontsize='25') # for legend title\n",
        "\n",
        "plt.tight_layout()\n",
        "plt.show()"
      ]
    },
    {
      "cell_type": "markdown",
      "source": [
        "**Observation** : It was seen from above that at annual income bucket people with medium income are at very high risk"
      ],
      "metadata": {
        "id": "7ZjwJVK3DcId"
      }
    },
    {
      "cell_type": "markdown",
      "metadata": {
        "id": "1AaIuPsWfleN"
      },
      "source": [
        "**Observations** : We discovered that persons with a medium yearly income are more likely to fail on their loans after doing a segmented univariate study. People with a median annual income are more likely to request for larger loans, which increases the risk of their defaulting. LC should put a halt to these loans."
      ]
    }
  ],
  "metadata": {
    "kernelspec": {
      "display_name": "Python 3",
      "language": "python",
      "name": "python3"
    },
    "language_info": {
      "codemirror_mode": {
        "name": "ipython",
        "version": 3
      },
      "file_extension": ".py",
      "mimetype": "text/x-python",
      "name": "python",
      "nbconvert_exporter": "python",
      "pygments_lexer": "ipython3",
      "version": "3.7.6"
    },
    "colab": {
      "name": "Group_Ritu_Tyagi.ipynb",
      "provenance": [],
      "collapsed_sections": []
    }
  },
  "nbformat": 4,
  "nbformat_minor": 0
}